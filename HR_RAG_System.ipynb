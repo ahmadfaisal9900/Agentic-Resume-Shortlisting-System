{
  "cells": [
    {
      "cell_type": "code",
      "execution_count": 1,
      "metadata": {},
      "outputs": [],
      "source": [
        "\n",
        "from __future__ import annotations\n",
        "\n",
        "import os\n",
        "import logging\n",
        "from pathlib import Path\n",
        "from typing import List, Dict, Any\n",
        "\n",
        "import numpy as np\n",
        "import pypdf\n",
        "import lancedb\n",
        "from lancedb.pydantic import LanceModel, Vector\n",
        "from dotenv import load_dotenv\n",
        "from google import genai\n",
        "import logging\n",
        "from typing import TypedDict, List\n",
        "from langgraph.graph import StateGraph, END, START\n",
        "from langchain.schema import Document\n",
        "import dspy"
      ]
    },
    {
      "cell_type": "markdown",
      "metadata": {},
      "source": [
        "### Reading from the JD PDFs"
      ]
    },
    {
      "cell_type": "code",
      "execution_count": null,
      "metadata": {},
      "outputs": [
        {
          "name": "stderr",
          "output_type": "stream",
          "text": [
            "INFO:__main__:Processing Associate Software Engineer JD.pdf...\n",
            "INFO:__main__:Processing Business Development Executive JD.pdf...\n",
            "INFO:__main__:Processing Entry Level Marketing Associate JD.pdf...\n",
            "INFO:__main__:📄 Loaded 3 job descriptions.\n"
          ]
        }
      ],
      "source": [
        "import os\n",
        "import logging\n",
        "from pathlib import Path\n",
        "from typing import List, Dict, Any\n",
        "import pypdf\n",
        "from dotenv import load_dotenv\n",
        "\n",
        "load_dotenv()\n",
        "LANCE_URI = os.getenv(\"LANCE_URI\")\n",
        "LANCE_API_KEY = os.getenv(\"LANCE_API_KEY\")\n",
        "LANCE_REGION = os.getenv(\"LANCE_REGION\")\n",
        "GEMINI_API_KEY = os.getenv(\"GEMINI_API_KEY\")\n",
        "DOCS_FOLDER = os.getenv(\"DOCS_FOLDER\", \"docs/JD\")  # fallback if not set\n",
        "LANGSMITH_API_KEY = os.getenv(\"LANGSMITH_API_KEY\")\n",
        "os.environ[\"LANGSMITH_API_KEY\"] = LANGSMITH_API_KEY \n",
        "os.environ[\"LANGSMITH_TRACING\"] = \"true\" \n",
        "\n",
        "logging.basicConfig(level=logging.INFO)\n",
        "logger = logging.getLogger(__name__)\n",
        "\n",
        "llm = dspy.LM(\"gemini/gemini-2.5-flash\", api_key=GEMINI_API_KEY)\n",
        "dspy.configure(lm=llm)\n",
        "\n",
        "class RAGState(TypedDict):\n",
        "    query: str\n",
        "    docs: List[Document]\n",
        "    context: str\n",
        "    answer: str\n",
        "    plan: dict\n",
        "    candidate_ids: List[str]\n",
        "    candidates_context: str     # NEW\n",
        "\n",
        "\n",
        "def extract_text_from_pdf(pdf_path: Path) -> str:\n",
        "    \"\"\"Extract text from a PDF file.\"\"\"\n",
        "    try:\n",
        "        with pdf_path.open(\"rb\") as f:\n",
        "            reader = pypdf.PdfReader(f)\n",
        "            text = \"\\n\".join([page.extract_text() or \"\" for page in reader.pages])\n",
        "        return text.strip()\n",
        "    except Exception as e:\n",
        "        logger.error(f\"Error reading {pdf_path}: {e}\")\n",
        "        return \"\"\n",
        "\n",
        "def load_job_descriptions(folder: Path) -> List[Dict[str, Any]]:\n",
        "    \"\"\"Load all PDFs and return list of job info dictionaries.\"\"\"\n",
        "    records = []\n",
        "    if not folder.exists():\n",
        "        logger.error(f\"❌ Folder {folder} not found\")\n",
        "        return []\n",
        "\n",
        "    for pdf in sorted(folder.glob(\"*.pdf\")):\n",
        "        logger.info(f\"Processing {pdf.name}...\")\n",
        "        text = extract_text_from_pdf(pdf)\n",
        "        if not text:\n",
        "            continue\n",
        "        records.append({\n",
        "            \"id\": f\"job_{pdf.stem}\",\n",
        "            \"title\": pdf.stem.replace(\"_\", \" \").replace(\" JD\", \"\").strip(),\n",
        "            \"description\": text,\n",
        "            \"pdf_path\": str(pdf),\n",
        "            \"company\": \"Unknown\",\n",
        "            \"location\": \"Unknown\"\n",
        "        })\n",
        "    logger.info(f\"📄 Loaded {len(records)} job descriptions.\")\n",
        "    return records\n",
        "\n",
        "docs_folder = Path(DOCS_FOLDER)\n",
        "jobs = load_job_descriptions(docs_folder)\n"
      ]
    },
    {
      "cell_type": "markdown",
      "metadata": {},
      "source": [
        "## Function to reconstruct full documents from the chunks\n",
        "This works by checking the chunk ID and getting all of the ids"
      ]
    },
    {
      "cell_type": "code",
      "execution_count": 3,
      "metadata": {},
      "outputs": [],
      "source": [
        "def reconstruct_full_docs(chunks):\n",
        "    docs_map = {}\n",
        "    for chunk in chunks:\n",
        "        doc_id = chunk.metadata['id']\n",
        "        if doc_id not in docs_map:\n",
        "            docs_map[doc_id] = []\n",
        "        docs_map[doc_id].append(chunk.page_content)\n",
        "    \n",
        "    return [\" \".join(chunks) for chunks in docs_map.values()]"
      ]
    },
    {
      "cell_type": "markdown",
      "metadata": {},
      "source": [
        "### Chunking"
      ]
    },
    {
      "cell_type": "code",
      "execution_count": 4,
      "metadata": {},
      "outputs": [
        {
          "name": "stdout",
          "output_type": "stream",
          "text": [
            "✅ Split into 12 chunks\n"
          ]
        }
      ],
      "source": [
        "from langchain.text_splitter import RecursiveCharacterTextSplitter\n",
        "\n",
        "text_splitter = RecursiveCharacterTextSplitter(\n",
        "    chunk_size=1000,   # max characters per chunk\n",
        "    chunk_overlap=50   # overlap for context continuity\n",
        ")\n",
        "\n",
        "# Convert job descriptions to LangChain Document objects\n",
        "from langchain.schema import Document\n",
        "docs = [Document(page_content=j[\"description\"], metadata={\"id\": j[\"id\"], \"title\": j[\"title\"]}) for j in jobs]\n",
        "\n",
        "# Split into chunks\n",
        "chunks = text_splitter.split_documents(docs)\n",
        "print(f\"✅ Split into {len(chunks)} chunks\")\n"
      ]
    },
    {
      "cell_type": "markdown",
      "metadata": {},
      "source": [
        "### Storing to Vector DB"
      ]
    },
    {
      "cell_type": "code",
      "execution_count": 5,
      "metadata": {},
      "outputs": [
        {
          "name": "stdout",
          "output_type": "stream",
          "text": [
            "✅ Connected to LanceDB\n",
            "🧹 Old table 'job_descriptions' removed.\n"
          ]
        },
        {
          "name": "stderr",
          "output_type": "stream",
          "text": [
            "WARNING: All log messages before absl::InitializeLog() is called are written to STDERR\n",
            "E0000 00:00:1761312222.317872  297785 alts_credentials.cc:93] ALTS creds ignored. Not running on GCP and untrusted ALTS is not enabled.\n",
            "E0000 00:00:1761312222.321669  297785 alts_credentials.cc:93] ALTS creds ignored. Not running on GCP and untrusted ALTS is not enabled.\n"
          ]
        },
        {
          "name": "stdout",
          "output_type": "stream",
          "text": [
            "✅ Stored 12 chunks in 'job_descriptions'\n",
            "vector: fixed_size_list<item: float>[3072]\n",
            "  child 0, item: float\n",
            "id: string\n",
            "text: string\n",
            "metadata: struct<id: string, title: string>\n",
            "  child 0, id: string\n",
            "  child 1, title: string\n",
            "Total rows: 12\n"
          ]
        }
      ],
      "source": [
        "import os\n",
        "import lancedb\n",
        "from langchain_google_genai import GoogleGenerativeAIEmbeddings\n",
        "from langchain_community.vectorstores import LanceDB\n",
        "\n",
        "db = lancedb.connect(\n",
        "  uri=\"db://agentic-hr-a7qydd\",\n",
        "  api_key=LANCE_API_KEY,\n",
        "  region=\"us-east-1\"\n",
        ")\n",
        "print(\"✅ Connected to LanceDB\")\n",
        "\n",
        "# --- 2. Remove any existing table before re-creating it ---\n",
        "if \"job_descriptions\" in db.table_names():\n",
        "    db.drop_table(\"job_descriptions\")\n",
        "    print(\"🧹 Old table 'job_descriptions' removed.\")\n",
        "\n",
        "# --- 3. Create Gemini embedding model ---\n",
        "embeddings = GoogleGenerativeAIEmbeddings(model=\"models/gemini-embedding-001\")\n",
        "\n",
        "# --- 4. Insert all chunks (LanceDB infers schema automatically) ---\n",
        "vector_store = LanceDB.from_documents(\n",
        "    documents=chunks,         # list of LangChain Document objects\n",
        "    embedding=embeddings,     # Gemini embedding model\n",
        "    connection=db,            # the DB connection (not a table)\n",
        "    table_name=\"job_descriptions\",\n",
        "    api_key=LANCE_API_KEY,\n",
        "    region=LANCE_REGION,\n",
        "    uri=LANCE_URI\n",
        ")\n",
        "\n",
        "print(f\"✅ Stored {len(chunks)} chunks in 'job_descriptions'\")\n",
        "\n",
        "# --- 5. Verify table structure ---\n",
        "\n",
        "table = db.open_table(\"job_descriptions\")\n",
        "print(table.schema)\n",
        "print(\"Total rows:\", table.count_rows())\n"
      ]
    },
    {
      "cell_type": "code",
      "execution_count": 6,
      "metadata": {},
      "outputs": [],
      "source": [
        "from langchain_core.prompts import ChatPromptTemplate\n",
        "\n",
        "template = \"\"\"\n",
        "Give me the Job Description for the position of a Software Engineer\n",
        "\"\"\"\n",
        "\n",
        "prompt = ChatPromptTemplate.from_template(template)\n"
      ]
    },
    {
      "cell_type": "code",
      "execution_count": 7,
      "metadata": {},
      "outputs": [
        {
          "name": "stdout",
          "output_type": "stream",
          "text": [
            "✅ Query embedding length: 3072\n"
          ]
        }
      ],
      "source": [
        "query = \"Tell me about data scientist responsibilities.\"\n",
        "query_embedding = embeddings.embed_query(query)\n",
        "print(f\"✅ Query embedding length: {len(query_embedding)}\")\n"
      ]
    },
    {
      "cell_type": "code",
      "execution_count": 8,
      "metadata": {},
      "outputs": [
        {
          "name": "stderr",
          "output_type": "stream",
          "text": [
            "/tmp/ipykernel_297785/438507276.py:10: LangChainDeprecationWarning: The method `BaseRetriever.get_relevant_documents` was deprecated in langchain-core 0.1.46 and will be removed in 1.0. Use :meth:`~invoke` instead.\n",
            "  docs = retriever.get_relevant_documents(query)\n"
          ]
        },
        {
          "name": "stdout",
          "output_type": "stream",
          "text": [
            "✅ Retrieved 10 relevant chunks.\n"
          ]
        }
      ],
      "source": [
        "# Modify the retriever setup\n",
        "retriever = vector_store.as_retriever(\n",
        "    search_kwargs={\n",
        "        \"k\": 10,  # increase number of chunks retrieved\n",
        "        \"fetch_k\": 20  # fetch more candidates before selecting top k\n",
        "    }\n",
        ")\n",
        "# AFTER your existing retriever creation:\n",
        "GLOBAL_RETRIEVER = retriever   # NEW: expose retriever to graph nodes\n",
        "docs = retriever.get_relevant_documents(query)\n",
        "full_docs = reconstruct_full_docs(docs)\n",
        "print(f\"✅ Retrieved {len(docs)} relevant chunks.\")"
      ]
    },
    {
      "cell_type": "code",
      "execution_count": 9,
      "metadata": {},
      "outputs": [],
      "source": [
        "if full_docs:\n",
        "    context = full_docs[0]  # Take the first reconstructed document\n",
        "else:\n",
        "    context = \"No relevant document found.\"\n",
        "    "
      ]
    },
    {
      "cell_type": "code",
      "execution_count": null,
      "metadata": {},
      "outputs": [],
      "source": [
        "def retrieve_and_process(query: str) -> str:\n",
        "    docs = retriever.get_relevant_documents(query)\n",
        "    full_docs = reconstruct_full_docs(docs)\n",
        "    return full_docs[0] if full_docs else \"No relevant document found.\"\n",
        "\n"
      ]
    },
    {
      "cell_type": "markdown",
      "metadata": {},
      "source": [
        "### DSPy Context Engineering + Node Definitions for Retreival and Generation of JD"
      ]
    },
    {
      "cell_type": "code",
      "execution_count": null,
      "metadata": {},
      "outputs": [],
      "source": [
        "# NEW: DSPy signature for your task\n",
        "class AnswerJD(dspy.Signature):\n",
        "    \"\"\"Using the provided job description context, answer the user's query clearly and concisely.\"\"\"\n",
        "    context: str = dspy.InputField(desc=\"Reconstructed job description text\")\n",
        "    query: str = dspy.InputField(desc=\"User query requesting a JD or details\")\n",
        "    answer: str = dspy.OutputField(desc=\"Final structured answer focused on the most relevant JD\")\n",
        "\n",
        "# NEW: node 1 — retrieve docs using your existing retriever + reconstruct_full_docs\n",
        "def node_retrieve(state: RAGState) -> dict:\n",
        "    q = state[\"query\"]\n",
        "    docs = GLOBAL_RETRIEVER.get_relevant_documents(q)\n",
        "    full_docs = reconstruct_full_docs(docs)\n",
        "    context = full_docs[0] if full_docs else \"No relevant document found.\"\n",
        "    # ✅ Return only what this node changes\n",
        "    return {\"docs\": docs, \"context\": context}\n",
        "\n",
        "    \n",
        "def node_generate(state: RAGState) -> dict:\n",
        "    dspy_module = dspy.Predict(AnswerJD)\n",
        "    # Prefer candidates_context; fall back to JD context if missing\n",
        "    ctx = state.get(\"candidates_context\") or state.get(\"context\") or \"\"\n",
        "    pred = dspy_module(context=ctx, query=state[\"query\"])\n",
        "    # ✅ Only answer\n",
        "    return {\"answer\": getattr(pred, \"answer\", \"\").strip()}\n",
        "\n"
      ]
    },
    {
      "cell_type": "code",
      "execution_count": 12,
      "metadata": {},
      "outputs": [],
      "source": [
        "# NEW: metadata ingest — place after you create `db`\n",
        "import json\n",
        "from pathlib import Path\n",
        "\n",
        "CAND_TABLE = \"candidates_meta\"\n",
        "META_JSON_DIR = Path(\"/home/ahmad-faisal/lang/HR/docs/Resumes/metadata\")  # put your 12 JSONs here\n",
        "\n",
        "def load_meta_docs(meta_dir: Path) -> list[Document]:\n",
        "    docs = []\n",
        "    for p in sorted(meta_dir.glob(\"*.json\")):\n",
        "        with p.open(\"r\", encoding=\"utf-8\") as f:\n",
        "            j = json.load(f)\n",
        "        # compact text field purely from metadata we actually have\n",
        "        text = \" | \".join([\n",
        "            str(j.get(\"job_title\", \"\")).strip(),\n",
        "            str(j.get(\"university\", \"\")).strip(),\n",
        "            str(j.get(\"candidate_name\", \"\")).strip(),\n",
        "            str(j.get(\"doc_type\", \"\")).strip(),\n",
        "            str(j.get(\"source\", \"\")).strip(),\n",
        "        ])\n",
        "        docs.append(Document(\n",
        "            page_content=text,\n",
        "            metadata={\n",
        "                \"resume_id\": str(j.get(\"resume_id\", \"\")).strip(),\n",
        "                \"candidate_name\": str(j.get(\"candidate_name\", \"\")).strip(),\n",
        "                \"university\": str(j.get(\"university\", \"\")).strip(),\n",
        "                \"job_title\": str(j.get(\"job_title\", \"\")).strip(),\n",
        "                \"doc_type\": str(j.get(\"doc_type\", \"\")).strip(),\n",
        "                \"source\": str(j.get(\"source\", \"\")).strip(),\n",
        "            }\n",
        "        ))\n",
        "    return docs\n",
        "\n",
        "meta_docs = load_meta_docs(META_JSON_DIR)\n",
        "\n",
        "# (Re)create the vector table; schema is inferred with a vector column\n",
        "if CAND_TABLE in db.table_names():\n",
        "    db.drop_table(CAND_TABLE)\n",
        "\n",
        "cand_vs = LanceDB.from_documents(\n",
        "    documents=meta_docs,\n",
        "    embedding=embeddings,     # your existing GoogleGenerativeAIEmbeddings\n",
        "    connection=db,\n",
        "    table_name=CAND_TABLE,\n",
        "    mode=\"overwrite\",\n",
        "    api_key=LANCE_API_KEY,\n",
        "    region=LANCE_REGION,\n",
        "    uri=LANCE_URI\n",
        ")"
      ]
    },
    {
      "cell_type": "code",
      "execution_count": null,
      "metadata": {},
      "outputs": [],
      "source": [
        "def build_candidates_context(resume_ids: List[str]) -> str:\n",
        "    df = cand_vs.to_pandas()\n",
        "    if resume_ids:\n",
        "        df = df[df[\"resume_id\"].astype(str).isin(resume_ids)]\n",
        "    # Keep it short & structured\n",
        "    rows = []\n",
        "    for _, r in df.iterrows():\n",
        "        rows.append(\n",
        "            f\"- {r.get('candidate_name','').strip()} | \"\n",
        "            f\"{r.get('job_title','').strip()} | \"\n",
        "            f\"{r.get('university','').strip()} | \"\n",
        "            f\"id={str(r.get('resume_id','')).strip()}\"\n",
        "        )\n",
        "    return \"\\n\".join(rows[:100])  # safety cap\n"
      ]
    },
    {
      "cell_type": "code",
      "execution_count": null,
      "metadata": {},
      "outputs": [],
      "source": [
        "def node_plan_from_jd(state: RAGState) -> dict:\n",
        "    jd_text = state.get(\"context\") or \"\"\n",
        "    plan = {\n",
        "        \"jd_embedding\": embeddings.embed_query(jd_text),\n",
        "        \"k_candidates\": 2,\n",
        "        \"indexes\": [\"candidates_meta_vec\"],\n",
        "    }\n",
        "    # ✅ Only plan\n",
        "    return {\"plan\": plan}\n"
      ]
    },
    {
      "cell_type": "code",
      "execution_count": null,
      "metadata": {},
      "outputs": [],
      "source": [
        "def node_pool_candidates(state: RAGState) -> dict:\n",
        "    plan = state[\"plan\"]\n",
        "    k = int(plan.get(\"k_candidates\", 100))\n",
        "    jd_vec = plan[\"jd_embedding\"]\n",
        "\n",
        "    cand_store = LanceDB(connection=db, embedding=embeddings, table_name=CAND_TABLE)\n",
        "    hits = cand_store.similarity_search_by_vector(jd_vec, k=k)\n",
        "    ids = [h.metadata.get(\"resume_id\", \"\") for h in hits]\n",
        "\n",
        "    # NEW: build a textual context of the pooled candidates (names/titles/universities)\n",
        "    cand_ctx = build_candidates_context(ids)\n",
        "\n",
        "    # ✅ Only candidate ids + candidates context\n",
        "    return {\"candidate_ids\": ids, \"candidates_context\": cand_ctx}\n"
      ]
    },
    {
      "cell_type": "code",
      "execution_count": 21,
      "metadata": {},
      "outputs": [],
      "source": [
        "def has_context(state):\n",
        "    return state.get(\"context\") and state[\"context\"] != \"No relevant document found.\""
      ]
    },
    {
      "cell_type": "markdown",
      "metadata": {},
      "source": [
        "### Graph definition"
      ]
    },
    {
      "cell_type": "code",
      "execution_count": 22,
      "metadata": {},
      "outputs": [],
      "source": [
        "# NEW: build a simple 2-node graph\n",
        "graph = StateGraph(RAGState)\n",
        "graph.add_node(\"retrieve\", node_retrieve)\n",
        "graph.add_node(\"generate\", node_generate)\n",
        "\n",
        "\n",
        "graph.set_entry_point(\"retrieve\")\n",
        "graph.add_edge(\"retrieve\", \"generate\")\n",
        "graph.add_edge(\"generate\", END)\n",
        "graph.add_conditional_edges(\n",
        "    \"retrieve\",\n",
        "    lambda s: \"generate\" if has_context(s) else END\n",
        ")\n",
        "graph.add_node(\"plan_from_jd\", node_plan_from_jd)\n",
        "graph.add_node(\"pool_candidates\", node_pool_candidates)\n",
        "graph.add_edge(\"retrieve\", \"plan_from_jd\")\n",
        "graph.add_edge(\"plan_from_jd\", \"pool_candidates\")\n",
        "graph.add_edge(\"pool_candidates\", \"generate\")\n",
        "app = graph.compile()\n"
      ]
    },
    {
      "cell_type": "code",
      "execution_count": 23,
      "metadata": {},
      "outputs": [
        {
          "data": {
            "image/png": "[encoded data removed]",
            "text/plain": [
              "<langgraph.graph.state.CompiledStateGraph object at 0x724de86c84a0>"
            ]
          },
          "execution_count": 23,
          "metadata": {},
          "output_type": "execute_result"
        }
      ],
      "source": [
        "app"
      ]
    },
    {
      "cell_type": "code",
      "execution_count": 24,
      "metadata": {},
      "outputs": [
        {
          "ename": "InvalidUpdateError",
          "evalue": "At key 'query': Can receive only one value per step. Use an Annotated key to handle multiple values.\nFor troubleshooting, visit: https://python.langchain.com/docs/troubleshooting/errors/INVALID_CONCURRENT_GRAPH_UPDATE",
          "output_type": "error",
          "traceback": [
            "\u001b[31m---------------------------------------------------------------------------\u001b[39m",
            "\u001b[31mInvalidUpdateError\u001b[39m                        Traceback (most recent call last)",
            "\u001b[36mCell\u001b[39m\u001b[36m \u001b[39m\u001b[32mIn[24]\u001b[39m\u001b[32m, line 2\u001b[39m\n\u001b[32m      1\u001b[39m \u001b[38;5;66;03m# NEW: LangGraph run\u001b[39;00m\n\u001b[32m----> \u001b[39m\u001b[32m2\u001b[39m result_state = \u001b[43mapp\u001b[49m\u001b[43m.\u001b[49m\u001b[43minvoke\u001b[49m\u001b[43m(\u001b[49m\u001b[43m{\u001b[49m\u001b[33;43m\"\u001b[39;49m\u001b[33;43mquery\u001b[39;49m\u001b[33;43m\"\u001b[39;49m\u001b[43m:\u001b[49m\u001b[43m \u001b[49m\u001b[33;43m\"\u001b[39;49m\u001b[33;43mGive me the best candidate for the position of a business executive.\u001b[39;49m\u001b[33;43m\"\u001b[39;49m\u001b[43m}\u001b[49m\u001b[43m)\u001b[49m\n\u001b[32m      3\u001b[39m \u001b[38;5;28mprint\u001b[39m(\u001b[33m\"\u001b[39m\u001b[38;5;130;01m\\n\u001b[39;00m\u001b[33m🧩 Final Answer:\u001b[39m\u001b[38;5;130;01m\\n\u001b[39;00m\u001b[33m\"\u001b[39m, result_state[\u001b[33m\"\u001b[39m\u001b[33manswer\u001b[39m\u001b[33m\"\u001b[39m])\n",
            "\u001b[36mFile \u001b[39m\u001b[32m~/miniconda3/envs/lang/lib/python3.12/site-packages/langgraph/pregel/main.py:3085\u001b[39m, in \u001b[36mPregel.invoke\u001b[39m\u001b[34m(self, input, config, context, stream_mode, print_mode, output_keys, interrupt_before, interrupt_after, durability, **kwargs)\u001b[39m\n\u001b[32m   3082\u001b[39m chunks: \u001b[38;5;28mlist\u001b[39m[\u001b[38;5;28mdict\u001b[39m[\u001b[38;5;28mstr\u001b[39m, Any] | Any] = []\n\u001b[32m   3083\u001b[39m interrupts: \u001b[38;5;28mlist\u001b[39m[Interrupt] = []\n\u001b[32m-> \u001b[39m\u001b[32m3085\u001b[39m \u001b[43m\u001b[49m\u001b[38;5;28;43;01mfor\u001b[39;49;00m\u001b[43m \u001b[49m\u001b[43mchunk\u001b[49m\u001b[43m \u001b[49m\u001b[38;5;129;43;01min\u001b[39;49;00m\u001b[43m \u001b[49m\u001b[38;5;28;43mself\u001b[39;49m\u001b[43m.\u001b[49m\u001b[43mstream\u001b[49m\u001b[43m(\u001b[49m\n\u001b[32m   3086\u001b[39m \u001b[43m    \u001b[49m\u001b[38;5;28;43minput\u001b[39;49m\u001b[43m,\u001b[49m\n\u001b[32m   3087\u001b[39m \u001b[43m    \u001b[49m\u001b[43mconfig\u001b[49m\u001b[43m,\u001b[49m\n\u001b[32m   3088\u001b[39m \u001b[43m    \u001b[49m\u001b[43mcontext\u001b[49m\u001b[43m=\u001b[49m\u001b[43mcontext\u001b[49m\u001b[43m,\u001b[49m\n\u001b[32m   3089\u001b[39m \u001b[43m    \u001b[49m\u001b[43mstream_mode\u001b[49m\u001b[43m=\u001b[49m\u001b[43m[\u001b[49m\u001b[33;43m\"\u001b[39;49m\u001b[33;43mupdates\u001b[39;49m\u001b[33;43m\"\u001b[39;49m\u001b[43m,\u001b[49m\u001b[43m \u001b[49m\u001b[33;43m\"\u001b[39;49m\u001b[33;43mvalues\u001b[39;49m\u001b[33;43m\"\u001b[39;49m\u001b[43m]\u001b[49m\n\u001b[32m   3090\u001b[39m \u001b[43m    \u001b[49m\u001b[38;5;28;43;01mif\u001b[39;49;00m\u001b[43m \u001b[49m\u001b[43mstream_mode\u001b[49m\u001b[43m \u001b[49m\u001b[43m==\u001b[49m\u001b[43m \u001b[49m\u001b[33;43m\"\u001b[39;49m\u001b[33;43mvalues\u001b[39;49m\u001b[33;43m\"\u001b[39;49m\n\u001b[32m   3091\u001b[39m \u001b[43m    \u001b[49m\u001b[38;5;28;43;01melse\u001b[39;49;00m\u001b[43m \u001b[49m\u001b[43mstream_mode\u001b[49m\u001b[43m,\u001b[49m\n\u001b[32m   3092\u001b[39m \u001b[43m    \u001b[49m\u001b[43mprint_mode\u001b[49m\u001b[43m=\u001b[49m\u001b[43mprint_mode\u001b[49m\u001b[43m,\u001b[49m\n\u001b[32m   3093\u001b[39m \u001b[43m    \u001b[49m\u001b[43moutput_keys\u001b[49m\u001b[43m=\u001b[49m\u001b[43moutput_keys\u001b[49m\u001b[43m,\u001b[49m\n\u001b[32m   3094\u001b[39m \u001b[43m    \u001b[49m\u001b[43minterrupt_before\u001b[49m\u001b[43m=\u001b[49m\u001b[43minterrupt_before\u001b[49m\u001b[43m,\u001b[49m\n\u001b[32m   3095\u001b[39m \u001b[43m    \u001b[49m\u001b[43minterrupt_after\u001b[49m\u001b[43m=\u001b[49m\u001b[43minterrupt_after\u001b[49m\u001b[43m,\u001b[49m\n\u001b[32m   3096\u001b[39m \u001b[43m    \u001b[49m\u001b[43mdurability\u001b[49m\u001b[43m=\u001b[49m\u001b[43mdurability\u001b[49m\u001b[43m,\u001b[49m\n\u001b[32m   3097\u001b[39m \u001b[43m    \u001b[49m\u001b[43m*\u001b[49m\u001b[43m*\u001b[49m\u001b[43mkwargs\u001b[49m\u001b[43m,\u001b[49m\n\u001b[32m   3098\u001b[39m \u001b[43m\u001b[49m\u001b[43m)\u001b[49m\u001b[43m:\u001b[49m\n\u001b[32m   3099\u001b[39m \u001b[43m    \u001b[49m\u001b[38;5;28;43;01mif\u001b[39;49;00m\u001b[43m \u001b[49m\u001b[43mstream_mode\u001b[49m\u001b[43m \u001b[49m\u001b[43m==\u001b[49m\u001b[43m \u001b[49m\u001b[33;43m\"\u001b[39;49m\u001b[33;43mvalues\u001b[39;49m\u001b[33;43m\"\u001b[39;49m\u001b[43m:\u001b[49m\n\u001b[32m   3100\u001b[39m \u001b[43m        \u001b[49m\u001b[38;5;28;43;01mif\u001b[39;49;00m\u001b[43m \u001b[49m\u001b[38;5;28;43mlen\u001b[39;49m\u001b[43m(\u001b[49m\u001b[43mchunk\u001b[49m\u001b[43m)\u001b[49m\u001b[43m \u001b[49m\u001b[43m==\u001b[49m\u001b[43m \u001b[49m\u001b[32;43m2\u001b[39;49m\u001b[43m:\u001b[49m\n",
            "\u001b[36mFile \u001b[39m\u001b[32m~/miniconda3/envs/lang/lib/python3.12/site-packages/langgraph/pregel/main.py:2684\u001b[39m, in \u001b[36mPregel.stream\u001b[39m\u001b[34m(self, input, config, context, stream_mode, print_mode, output_keys, interrupt_before, interrupt_after, durability, subgraphs, debug, **kwargs)\u001b[39m\n\u001b[32m   2674\u001b[39m \u001b[38;5;28;01mfor\u001b[39;00m _ \u001b[38;5;129;01min\u001b[39;00m runner.tick(\n\u001b[32m   2675\u001b[39m     [t \u001b[38;5;28;01mfor\u001b[39;00m t \u001b[38;5;129;01min\u001b[39;00m loop.tasks.values() \u001b[38;5;28;01mif\u001b[39;00m \u001b[38;5;129;01mnot\u001b[39;00m t.writes],\n\u001b[32m   2676\u001b[39m     timeout=\u001b[38;5;28mself\u001b[39m.step_timeout,\n\u001b[32m   (...)\u001b[39m\u001b[32m   2679\u001b[39m ):\n\u001b[32m   2680\u001b[39m     \u001b[38;5;66;03m# emit output\u001b[39;00m\n\u001b[32m   2681\u001b[39m     \u001b[38;5;28;01myield from\u001b[39;00m _output(\n\u001b[32m   2682\u001b[39m         stream_mode, print_mode, subgraphs, stream.get, queue.Empty\n\u001b[32m   2683\u001b[39m     )\n\u001b[32m-> \u001b[39m\u001b[32m2684\u001b[39m \u001b[43mloop\u001b[49m\u001b[43m.\u001b[49m\u001b[43mafter_tick\u001b[49m\u001b[43m(\u001b[49m\u001b[43m)\u001b[49m\n\u001b[32m   2685\u001b[39m \u001b[38;5;66;03m# wait for checkpoint\u001b[39;00m\n\u001b[32m   2686\u001b[39m \u001b[38;5;28;01mif\u001b[39;00m durability_ == \u001b[33m\"\u001b[39m\u001b[33msync\u001b[39m\u001b[33m\"\u001b[39m:\n",
            "\u001b[36mFile \u001b[39m\u001b[32m~/miniconda3/envs/lang/lib/python3.12/site-packages/langgraph/pregel/_loop.py:525\u001b[39m, in \u001b[36mPregelLoop.after_tick\u001b[39m\u001b[34m(self)\u001b[39m\n\u001b[32m    523\u001b[39m writes = [w \u001b[38;5;28;01mfor\u001b[39;00m t \u001b[38;5;129;01min\u001b[39;00m \u001b[38;5;28mself\u001b[39m.tasks.values() \u001b[38;5;28;01mfor\u001b[39;00m w \u001b[38;5;129;01min\u001b[39;00m t.writes]\n\u001b[32m    524\u001b[39m \u001b[38;5;66;03m# all tasks have finished\u001b[39;00m\n\u001b[32m--> \u001b[39m\u001b[32m525\u001b[39m \u001b[38;5;28mself\u001b[39m.updated_channels = \u001b[43mapply_writes\u001b[49m\u001b[43m(\u001b[49m\n\u001b[32m    526\u001b[39m \u001b[43m    \u001b[49m\u001b[38;5;28;43mself\u001b[39;49m\u001b[43m.\u001b[49m\u001b[43mcheckpoint\u001b[49m\u001b[43m,\u001b[49m\n\u001b[32m    527\u001b[39m \u001b[43m    \u001b[49m\u001b[38;5;28;43mself\u001b[39;49m\u001b[43m.\u001b[49m\u001b[43mchannels\u001b[49m\u001b[43m,\u001b[49m\n\u001b[32m    528\u001b[39m \u001b[43m    \u001b[49m\u001b[38;5;28;43mself\u001b[39;49m\u001b[43m.\u001b[49m\u001b[43mtasks\u001b[49m\u001b[43m.\u001b[49m\u001b[43mvalues\u001b[49m\u001b[43m(\u001b[49m\u001b[43m)\u001b[49m\u001b[43m,\u001b[49m\n\u001b[32m    529\u001b[39m \u001b[43m    \u001b[49m\u001b[38;5;28;43mself\u001b[39;49m\u001b[43m.\u001b[49m\u001b[43mcheckpointer_get_next_version\u001b[49m\u001b[43m,\u001b[49m\n\u001b[32m    530\u001b[39m \u001b[43m    \u001b[49m\u001b[38;5;28;43mself\u001b[39;49m\u001b[43m.\u001b[49m\u001b[43mtrigger_to_nodes\u001b[49m\u001b[43m,\u001b[49m\n\u001b[32m    531\u001b[39m \u001b[43m\u001b[49m\u001b[43m)\u001b[49m\n\u001b[32m    532\u001b[39m \u001b[38;5;66;03m# produce values output\u001b[39;00m\n\u001b[32m    533\u001b[39m \u001b[38;5;28;01mif\u001b[39;00m \u001b[38;5;129;01mnot\u001b[39;00m \u001b[38;5;28mself\u001b[39m.updated_channels.isdisjoint(\n\u001b[32m    534\u001b[39m     (\u001b[38;5;28mself\u001b[39m.output_keys,)\n\u001b[32m    535\u001b[39m     \u001b[38;5;28;01mif\u001b[39;00m \u001b[38;5;28misinstance\u001b[39m(\u001b[38;5;28mself\u001b[39m.output_keys, \u001b[38;5;28mstr\u001b[39m)\n\u001b[32m    536\u001b[39m     \u001b[38;5;28;01melse\u001b[39;00m \u001b[38;5;28mself\u001b[39m.output_keys\n\u001b[32m    537\u001b[39m ):\n",
            "\u001b[36mFile \u001b[39m\u001b[32m~/miniconda3/envs/lang/lib/python3.12/site-packages/langgraph/pregel/_algo.py:295\u001b[39m, in \u001b[36mapply_writes\u001b[39m\u001b[34m(checkpoint, channels, tasks, get_next_version, trigger_to_nodes)\u001b[39m\n\u001b[32m    293\u001b[39m \u001b[38;5;28;01mfor\u001b[39;00m chan, vals \u001b[38;5;129;01min\u001b[39;00m pending_writes_by_channel.items():\n\u001b[32m    294\u001b[39m     \u001b[38;5;28;01mif\u001b[39;00m chan \u001b[38;5;129;01min\u001b[39;00m channels:\n\u001b[32m--> \u001b[39m\u001b[32m295\u001b[39m         \u001b[38;5;28;01mif\u001b[39;00m \u001b[43mchannels\u001b[49m\u001b[43m[\u001b[49m\u001b[43mchan\u001b[49m\u001b[43m]\u001b[49m\u001b[43m.\u001b[49m\u001b[43mupdate\u001b[49m\u001b[43m(\u001b[49m\u001b[43mvals\u001b[49m\u001b[43m)\u001b[49m \u001b[38;5;129;01mand\u001b[39;00m next_version \u001b[38;5;129;01mis\u001b[39;00m \u001b[38;5;129;01mnot\u001b[39;00m \u001b[38;5;28;01mNone\u001b[39;00m:\n\u001b[32m    296\u001b[39m             checkpoint[\u001b[33m\"\u001b[39m\u001b[33mchannel_versions\u001b[39m\u001b[33m\"\u001b[39m][chan] = next_version\n\u001b[32m    297\u001b[39m             \u001b[38;5;66;03m# unavailable channels can't trigger tasks, so don't add them\u001b[39;00m\n",
            "\u001b[36mFile \u001b[39m\u001b[32m~/miniconda3/envs/lang/lib/python3.12/site-packages/langgraph/channels/last_value.py:64\u001b[39m, in \u001b[36mLastValue.update\u001b[39m\u001b[34m(self, values)\u001b[39m\n\u001b[32m     59\u001b[39m \u001b[38;5;28;01mif\u001b[39;00m \u001b[38;5;28mlen\u001b[39m(values) != \u001b[32m1\u001b[39m:\n\u001b[32m     60\u001b[39m     msg = create_error_message(\n\u001b[32m     61\u001b[39m         message=\u001b[33mf\u001b[39m\u001b[33m\"\u001b[39m\u001b[33mAt key \u001b[39m\u001b[33m'\u001b[39m\u001b[38;5;132;01m{\u001b[39;00m\u001b[38;5;28mself\u001b[39m.key\u001b[38;5;132;01m}\u001b[39;00m\u001b[33m'\u001b[39m\u001b[33m: Can receive only one value per step. Use an Annotated key to handle multiple values.\u001b[39m\u001b[33m\"\u001b[39m,\n\u001b[32m     62\u001b[39m         error_code=ErrorCode.INVALID_CONCURRENT_GRAPH_UPDATE,\n\u001b[32m     63\u001b[39m     )\n\u001b[32m---> \u001b[39m\u001b[32m64\u001b[39m     \u001b[38;5;28;01mraise\u001b[39;00m InvalidUpdateError(msg)\n\u001b[32m     66\u001b[39m \u001b[38;5;28mself\u001b[39m.value = values[-\u001b[32m1\u001b[39m]\n\u001b[32m     67\u001b[39m \u001b[38;5;28;01mreturn\u001b[39;00m \u001b[38;5;28;01mTrue\u001b[39;00m\n",
            "\u001b[31mInvalidUpdateError\u001b[39m: At key 'query': Can receive only one value per step. Use an Annotated key to handle multiple values.\nFor troubleshooting, visit: https://python.langchain.com/docs/troubleshooting/errors/INVALID_CONCURRENT_GRAPH_UPDATE"
          ]
        }
      ],
      "source": [
        "# NEW: LangGraph run\n",
        "result_state = app.invoke({\"query\": \"Give me the best candidate for the position of a business executive.\"})\n",
        "print(\"\\n🧩 Final Answer:\\n\", result_state[\"answer\"])\n"
      ]
    },
    {
      "cell_type": "code",
      "execution_count": null,
      "metadata": {},
      "outputs": [],
      "source": []
    }
  ],
  "metadata": {
    "kernelspec": {
      "display_name": "lang",
      "language": "python",
      "name": "python3"
    },
    "language_info": {
      "codemirror_mode": {
        "name": "ipython",
        "version": 3
      },
      "file_extension": ".py",
      "mimetype": "text/x-python",
      "name": "python",
      "nbconvert_exporter": "python",
      "pygments_lexer": "ipython3",
      "version": "3.12.11"
    }
  },
  "nbformat": 4,
  "nbformat_minor": 2
}
