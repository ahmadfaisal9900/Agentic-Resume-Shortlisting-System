{
  "cells": [
    {
      "cell_type": "code",
      "execution_count": 21,
      "metadata": {},
      "outputs": [],
      "source": [
        "\n",
        "from __future__ import annotations\n",
        "\n",
        "import os\n",
        "import logging\n",
        "from pathlib import Path\n",
        "from typing import List, Dict, Any\n",
        "\n",
        "import numpy as np\n",
        "import pypdf\n",
        "import lancedb\n",
        "from lancedb.pydantic import LanceModel, Vector\n",
        "from dotenv import load_dotenv\n",
        "from google import genai\n",
        "import logging\n",
        "from typing import TypedDict, List\n",
        "from langgraph.graph import StateGraph, END, START\n",
        "from langchain.schema import Document\n",
        "import dspy"
      ]
    },
    {
      "cell_type": "markdown",
      "metadata": {},
      "source": [
        "### Reading from the JD PDFs"
      ]
    },
    {
      "cell_type": "code",
      "execution_count": null,
      "metadata": {},
      "outputs": [
        {
          "name": "stderr",
          "output_type": "stream",
          "text": [
            "INFO:__main__:Processing Associate Software Engineer JD.pdf...\n",
            "INFO:__main__:Processing Business Development Executive JD.pdf...\n",
            "INFO:__main__:Processing Entry Level Marketing Associate JD.pdf...\n",
            "INFO:__main__:📄 Loaded 3 job descriptions.\n"
          ]
        }
      ],
      "source": [
        "import os\n",
        "import logging\n",
        "from pathlib import Path\n",
        "from typing import List, Dict, Any\n",
        "import pypdf\n",
        "from dotenv import load_dotenv\n",
        "\n",
        "load_dotenv()\n",
        "LANCE_URI = os.getenv(\"LANCE_URI\")\n",
        "LANCE_API_KEY = os.getenv(\"LANCE_API_KEY\")\n",
        "LANCE_REGION = os.getenv(\"LANCE_REGION\")\n",
        "GEMINI_API_KEY = os.getenv(\"GEMINI_API_KEY\")\n",
        "DOCS_FOLDER = os.getenv(\"DOCS_FOLDER\", \"docs/JD\")  # fallback if not set\n",
        "LANGSMITH_API_KEY = os.getenv(\"LANGSMITH_API_KEY\")\n",
        "os.environ[\"LANGSMITH_API_KEY\"] = LANGSMITH_API_KEY \n",
        "os.environ[\"LANGSMITH_TRACING\"] = \"true\" \n",
        "\n",
        "EMBEDDINGS_MODEL_ID = \"gemini-embedding-001\"\n",
        "\n",
        "logging.basicConfig(level=logging.INFO)\n",
        "logger = logging.getLogger(__name__)\n",
        "\n",
        "llm = dspy.LM(\"gemini/gemini-2.5-flash\", api_key=GEMINI_API_KEY)\n",
        "dspy.configure(lm=llm)\n",
        "\n",
        "class RAGState(TypedDict):\n",
        "    query: str\n",
        "    docs: List[Document]\n",
        "    context: str\n",
        "    answer: str\n",
        "    plan: dict\n",
        "    candidate_ids: List[str]\n",
        "    candidates_context: str     # NEW\n",
        "    candidate_snippets: List[str]       # aligned 1:1 with candidate_ids  (NEW)\n",
        "    ranked_ids: List[str]               # reranked\n",
        "    ranked_scores: List[float]          # reranked similarity scores\n",
        "\n",
        "def extract_text_from_pdf(pdf_path: Path) -> str:\n",
        "    \"\"\"Extract text from a PDF file.\"\"\"\n",
        "    try:\n",
        "        with pdf_path.open(\"rb\") as f:\n",
        "            reader = pypdf.PdfReader(f)\n",
        "            text = \"\\n\".join([page.extract_text() or \"\" for page in reader.pages])\n",
        "        return text.strip()\n",
        "    except Exception as e:\n",
        "        logger.error(f\"Error reading {pdf_path}: {e}\")\n",
        "        return \"\"\n",
        "\n",
        "def load_job_descriptions(folder: Path) -> List[Dict[str, Any]]:\n",
        "    \"\"\"Load all PDFs and return list of job info dictionaries.\"\"\"\n",
        "    records = []\n",
        "    if not folder.exists():\n",
        "        logger.error(f\"❌ Folder {folder} not found\")\n",
        "        return []\n",
        "\n",
        "    for pdf in sorted(folder.glob(\"*.pdf\")):\n",
        "        logger.info(f\"Processing {pdf.name}...\")\n",
        "        text = extract_text_from_pdf(pdf)\n",
        "        if not text:\n",
        "            continue\n",
        "        records.append({\n",
        "            \"id\": f\"job_{pdf.stem}\",\n",
        "            \"title\": pdf.stem.replace(\"_\", \" \").replace(\" JD\", \"\").strip(),\n",
        "            \"description\": text,\n",
        "            \"pdf_path\": str(pdf),\n",
        "            \"company\": \"Unknown\",\n",
        "            \"location\": \"Unknown\"\n",
        "        })\n",
        "    logger.info(f\"📄 Loaded {len(records)} job descriptions.\")\n",
        "    return records\n",
        "\n",
        "docs_folder = Path(DOCS_FOLDER)\n",
        "jobs = load_job_descriptions(docs_folder)\n"
      ]
    },
    {
      "cell_type": "markdown",
      "metadata": {},
      "source": [
        "## Function to reconstruct full documents from the chunks\n",
        "This works by checking the chunk ID and getting all of the ids"
      ]
    },
    {
      "cell_type": "code",
      "execution_count": 23,
      "metadata": {},
      "outputs": [],
      "source": [
        "def reconstruct_full_docs(chunks):\n",
        "    docs_map = {}\n",
        "    for chunk in chunks:\n",
        "        doc_id = chunk.metadata['id']\n",
        "        if doc_id not in docs_map:\n",
        "            docs_map[doc_id] = []\n",
        "        docs_map[doc_id].append(chunk.page_content)\n",
        "    \n",
        "    return [\" \".join(chunks) for chunks in docs_map.values()]"
      ]
    },
    {
      "cell_type": "markdown",
      "metadata": {},
      "source": [
        "### Chunking"
      ]
    },
    {
      "cell_type": "code",
      "execution_count": 24,
      "metadata": {},
      "outputs": [
        {
          "name": "stdout",
          "output_type": "stream",
          "text": [
            "✅ Split into 12 chunks\n"
          ]
        }
      ],
      "source": [
        "from langchain.text_splitter import RecursiveCharacterTextSplitter\n",
        "\n",
        "text_splitter = RecursiveCharacterTextSplitter(\n",
        "    chunk_size=1000,   # max characters per chunk\n",
        "    chunk_overlap=50   # overlap for context continuity\n",
        ")\n",
        "\n",
        "# Convert job descriptions to LangChain Document objects\n",
        "from langchain.schema import Document\n",
        "docs = [Document(page_content=j[\"description\"], metadata={\"id\": j[\"id\"], \"title\": j[\"title\"]}) for j in jobs]\n",
        "\n",
        "# Split into chunks\n",
        "chunks = text_splitter.split_documents(docs)\n",
        "print(f\"✅ Split into {len(chunks)} chunks\")\n"
      ]
    },
    {
      "cell_type": "markdown",
      "metadata": {},
      "source": [
        "### Storing to Vector DB"
      ]
    },
    {
      "cell_type": "code",
      "execution_count": 25,
      "metadata": {},
      "outputs": [
        {
          "name": "stdout",
          "output_type": "stream",
          "text": [
            "✅ Connected to LanceDB\n",
            "🧹 Old table 'job_descriptions' removed.\n"
          ]
        },
        {
          "name": "stderr",
          "output_type": "stream",
          "text": [
            "E0000 00:00:1761720328.564958    6666 alts_credentials.cc:93] ALTS creds ignored. Not running on GCP and untrusted ALTS is not enabled.\n",
            "E0000 00:00:1761720328.566130    6666 alts_credentials.cc:93] ALTS creds ignored. Not running on GCP and untrusted ALTS is not enabled.\n"
          ]
        },
        {
          "name": "stdout",
          "output_type": "stream",
          "text": [
            "✅ Stored 12 chunks in 'job_descriptions'\n",
            "vector: fixed_size_list<item: float>[3072]\n",
            "  child 0, item: float\n",
            "id: string\n",
            "text: string\n",
            "metadata: struct<id: string, title: string>\n",
            "  child 0, id: string\n",
            "  child 1, title: string\n",
            "Total rows: 12\n"
          ]
        }
      ],
      "source": [
        "import os\n",
        "import lancedb\n",
        "from langchain_google_genai import GoogleGenerativeAIEmbeddings\n",
        "from langchain_community.vectorstores import LanceDB\n",
        "\n",
        "db = lancedb.connect(\n",
        "  uri=\"db://agentic-hr-a7qydd\",\n",
        "  api_key=LANCE_API_KEY,\n",
        "  region=\"us-east-1\"\n",
        ")\n",
        "print(\"✅ Connected to LanceDB\")\n",
        "\n",
        "# --- 2. Remove any existing table before re-creating it ---\n",
        "if \"job_descriptions\" in db.table_names():\n",
        "    db.drop_table(\"job_descriptions\")\n",
        "    print(\"🧹 Old table 'job_descriptions' removed.\")\n",
        "\n",
        "# --- 3. Create Gemini embedding model ---\n",
        "embeddings = GoogleGenerativeAIEmbeddings(model=\"models/gemini-embedding-001\")\n",
        "\n",
        "# --- 4. Insert all chunks (LanceDB infers schema automatically) ---\n",
        "vector_store = LanceDB.from_documents(\n",
        "    documents=chunks,         # list of LangChain Document objects\n",
        "    embedding=embeddings,     # Gemini embedding model\n",
        "    connection=db,            # the DB connection (not a table)\n",
        "    table_name=\"job_descriptions\",\n",
        "    api_key=LANCE_API_KEY,\n",
        "    region=LANCE_REGION,\n",
        "    uri=LANCE_URI\n",
        ")\n",
        "\n",
        "print(f\"✅ Stored {len(chunks)} chunks in 'job_descriptions'\")\n",
        "\n",
        "# --- 5. Verify table structure ---\n",
        "\n",
        "table = db.open_table(\"job_descriptions\")\n",
        "print(table.schema)\n",
        "print(\"Total rows:\", table.count_rows())\n"
      ]
    },
    {
      "cell_type": "code",
      "execution_count": 26,
      "metadata": {},
      "outputs": [],
      "source": [
        "from langchain_core.prompts import ChatPromptTemplate\n",
        "\n",
        "template = \"\"\"\n",
        "Give me the Job Description for the position of a Software Engineer\n",
        "\"\"\"\n",
        "\n",
        "prompt = ChatPromptTemplate.from_template(template)\n"
      ]
    },
    {
      "cell_type": "code",
      "execution_count": 27,
      "metadata": {},
      "outputs": [
        {
          "name": "stdout",
          "output_type": "stream",
          "text": [
            "✅ Query embedding length: 3072\n"
          ]
        }
      ],
      "source": [
        "query = \"Tell me about data scientist responsibilities.\"\n",
        "query_embedding = embeddings.embed_query(query)\n",
        "print(f\"✅ Query embedding length: {len(query_embedding)}\")\n"
      ]
    },
    {
      "cell_type": "code",
      "execution_count": 28,
      "metadata": {},
      "outputs": [
        {
          "name": "stdout",
          "output_type": "stream",
          "text": [
            "✅ Retrieved 10 relevant chunks.\n"
          ]
        }
      ],
      "source": [
        "# Modify the retriever setup\n",
        "retriever = vector_store.as_retriever(\n",
        "    search_kwargs={\n",
        "        \"k\": 10,  # increase number of chunks retrieved\n",
        "        \"fetch_k\": 20  # fetch more candidates before selecting top k\n",
        "    }\n",
        ")\n",
        "# AFTER your existing retriever creation:\n",
        "GLOBAL_RETRIEVER = retriever   # NEW: expose retriever to graph nodes\n",
        "docs = retriever.get_relevant_documents(query)\n",
        "full_docs = reconstruct_full_docs(docs)\n",
        "print(f\"✅ Retrieved {len(docs)} relevant chunks.\")"
      ]
    },
    {
      "cell_type": "code",
      "execution_count": 29,
      "metadata": {},
      "outputs": [],
      "source": [
        "if full_docs:\n",
        "    context = full_docs[0]  # Take the first reconstructed document\n",
        "else:\n",
        "    context = \"No relevant document found.\"\n",
        "    "
      ]
    },
    {
      "cell_type": "code",
      "execution_count": 30,
      "metadata": {},
      "outputs": [],
      "source": [
        "def retrieve_and_process(query: str) -> str:\n",
        "    docs = retriever.get_relevant_documents(query)\n",
        "    full_docs = reconstruct_full_docs(docs)\n",
        "    return full_docs[0] if full_docs else \"No relevant document found.\"\n",
        "\n"
      ]
    },
    {
      "cell_type": "markdown",
      "metadata": {},
      "source": [
        "### DSPy Context Engineering + Node Definitions for Retreival and Generation of JD"
      ]
    },
    {
      "cell_type": "code",
      "execution_count": 31,
      "metadata": {},
      "outputs": [],
      "source": [
        "# NEW: DSPy signature for your task\n",
        "class AnswerJD(dspy.Signature):\n",
        "    \"\"\"Using the provided job description context, answer the user's query clearly and concisely.\"\"\"\n",
        "    context: str = dspy.InputField(desc=\"Reconstructed job description text\")\n",
        "    query: str = dspy.InputField(desc=\"User query requesting a JD or details\")\n",
        "    answer: str = dspy.OutputField(desc=\"Final structured answer focused on the most relevant JD\")\n",
        "\n",
        "# NEW: node 1 — retrieve docs using your existing retriever + reconstruct_full_docs\n",
        "def node_retrieve(state: RAGState) -> dict:\n",
        "    q = state[\"query\"]\n",
        "    docs = GLOBAL_RETRIEVER.get_relevant_documents(q)\n",
        "    full_docs = reconstruct_full_docs(docs)\n",
        "    context = full_docs[0] if full_docs else \"No relevant document found.\"\n",
        "    # ✅ Return only what this node changes\n",
        "    return {\"docs\": docs, \"context\": context}\n",
        "\n",
        "    \n",
        "def node_generate(state: RAGState) -> dict:\n",
        "    dspy_module = dspy.Predict(AnswerJD)\n",
        "    # prefer reranked_context > candidates_context > JD context\n",
        "    ctx = state.get(\"reranked_context\") or state.get(\"candidates_context\") or state.get(\"context\") or \"\"\n",
        "    pred = dspy_module(context=ctx, query=state[\"query\"])\n",
        "    return {\"answer\": getattr(pred, \"answer\", \"\").strip()}\n",
        "\n",
        "\n"
      ]
    },
    {
      "cell_type": "code",
      "execution_count": 32,
      "metadata": {},
      "outputs": [],
      "source": [
        "# NEW: metadata ingest — place after you create `db`\n",
        "import json\n",
        "from pathlib import Path\n",
        "\n",
        "CAND_TABLE = \"candidates_meta\"\n",
        "META_JSON_DIR = Path(\"/home/ahmad-faisal/lang/HR/docs/Resumes/metadata\")  # put your 12 JSONs here\n",
        "\n",
        "def load_meta_docs(meta_dir: Path) -> list[Document]:\n",
        "    docs = []\n",
        "    for p in sorted(meta_dir.glob(\"*.json\")):\n",
        "        with p.open(\"r\", encoding=\"utf-8\") as f:\n",
        "            j = json.load(f)\n",
        "        # compact text field purely from metadata we actually have\n",
        "        text = \" | \".join([\n",
        "            str(j.get(\"job_title\", \"\")).strip(),\n",
        "            str(j.get(\"university\", \"\")).strip(),\n",
        "            str(j.get(\"candidate_name\", \"\")).strip(),\n",
        "            str(j.get(\"doc_type\", \"\")).strip(),\n",
        "            str(j.get(\"source\", \"\")).strip(),\n",
        "        ])\n",
        "        docs.append(Document(\n",
        "            page_content=text,\n",
        "            metadata={\n",
        "                \"resume_id\": str(j.get(\"id\", \"\")).strip(),\n",
        "                \"candidate_name\": str(j.get(\"candidate_name\", \"\")).strip(),\n",
        "                \"university\": str(j.get(\"university\", \"\")).strip(),\n",
        "                \"job_title\": str(j.get(\"job_title\", \"\")).strip(),\n",
        "                \"doc_type\": str(j.get(\"doc_type\", \"\")).strip(),\n",
        "                \"source\": str(j.get(\"source\", \"\")).strip(),\n",
        "            }\n",
        "        ))\n",
        "    return docs\n",
        "\n",
        "meta_docs = load_meta_docs(META_JSON_DIR)\n",
        "\n",
        "# (Re)create the vector table; schema is inferred with a vector column\n",
        "if CAND_TABLE in db.table_names():\n",
        "    db.drop_table(CAND_TABLE)\n",
        "\n",
        "cand_vs = LanceDB.from_documents(\n",
        "    documents=meta_docs,\n",
        "    embedding=embeddings,     # your existing GoogleGenerativeAIEmbeddings\n",
        "    connection=db,\n",
        "    table_name=CAND_TABLE,\n",
        "    mode=\"overwrite\",\n",
        "    api_key=LANCE_API_KEY,\n",
        "    region=LANCE_REGION,\n",
        "    uri=LANCE_URI\n",
        ")"
      ]
    },
    {
      "cell_type": "code",
      "execution_count": 33,
      "metadata": {},
      "outputs": [],
      "source": [
        "def _quote(vals):\n",
        "    # simple SQL-ish quoting for where clause\n",
        "    return \", \".join(repr(str(v)) for v in vals if v is not None and str(v) != \"\")\n",
        "\n",
        "def build_candidates_context(resume_ids: list[str], *, db, table_name: str = CAND_TABLE) -> str:\n",
        "    if not resume_ids:\n",
        "        return \"No candidate IDs to display.\"\n",
        "\n",
        "    tbl = db.open_table(table_name)\n",
        "\n",
        "    # IMPORTANT: nested struct paths in LanceDB filters use dot notation\n",
        "    id_filter = f\"metadata.resume_id IN ({_quote(resume_ids)})\"\n",
        "\n",
        "    # Select only nested fields we need; dot paths are allowed\n",
        "    rows = (\n",
        "        tbl.search()\n",
        "           .where(id_filter)\n",
        "           .select([\n",
        "               \"metadata.candidate_name\",\n",
        "               \"metadata.job_title\",\n",
        "               \"metadata.university\",\n",
        "               \"metadata.resume_id\",\n",
        "           ])\n",
        "           .limit(len(resume_ids))\n",
        "           .to_list()\n",
        "    )\n",
        "\n",
        "    # Depending on driver version, rows may come back nested under 'metadata'\n",
        "    # or as flat keys with dots. Handle both safely:\n",
        "    lines = []\n",
        "    for r in rows:\n",
        "        md = r.get(\"metadata\") or {}\n",
        "        # fallback if keys are flattened like \"metadata.candidate_name\"\n",
        "        name = md.get(\"candidate_name\") or r.get(\"metadata.candidate_name\", \"\") or \"\"\n",
        "        title = md.get(\"job_title\") or r.get(\"metadata.job_title\", \"\") or \"\"\n",
        "        uni   = md.get(\"university\") or r.get(\"metadata.university\", \"\") or \"\"\n",
        "        rid   = md.get(\"resume_id\") or r.get(\"metadata.resume_id\", \"\") or \"\"\n",
        "        lines.append(f\"- {name.strip()} | {title.strip()} | {uni.strip()} | id={str(rid).strip()}\")\n",
        "\n",
        "    return \"\\n\".join(lines[:100]) if lines else \"No matching candidates found.\"\n"
      ]
    },
    {
      "cell_type": "code",
      "execution_count": 34,
      "metadata": {},
      "outputs": [],
      "source": [
        "def node_plan_from_jd(state: RAGState) -> dict:\n",
        "    jd_text = state.get(\"context\") or \"\"\n",
        "    plan = {\n",
        "        \"jd_embedding\": embeddings.embed_query(jd_text),\n",
        "        \"k_candidates\": 2,\n",
        "        \"indexes\": [\"candidates_meta\"],\n",
        "    }\n",
        "    # ✅ Only plan\n",
        "    return {\"plan\": plan}\n"
      ]
    },
    {
      "cell_type": "code",
      "execution_count": null,
      "metadata": {},
      "outputs": [],
      "source": [
        "def node_pool_candidates(state: \"RAGState\") -> dict:\n",
        "    plan = state[\"plan\"]\n",
        "    k = int(plan.get(\"k_candidates\", 100))\n",
        "    jd_vec = plan[\"jd_embedding\"]\n",
        "\n",
        "    cand_store = LanceDB(connection=db, embedding=embeddings, table_name=CAND_TABLE)\n",
        "    hits = cand_store.similarity_search_by_vector(jd_vec, k=k)\n",
        "\n",
        "    # Build context right from hits (no DB WHERE on resume_id)\n",
        "    lines, ids = [], []\n",
        "    for h in hits:\n",
        "        md = h.metadata or {}\n",
        "        rid = str(md.get(\"resume_id\", \"\")).strip()\n",
        "        name = (md.get(\"candidate_name\") or \"\").strip()\n",
        "        title = (md.get(\"job_title\") or \"\").strip()\n",
        "        uni = (md.get(\"university\") or \"\").strip()\n",
        "        ids.append(rid or f\"{name}|{title}\")  # fallback stable key if resume_id missing\n",
        "        lines.append(f\"- {name} | {title} | {uni} | id={rid or 'n/a'}\")\n",
        "\n",
        "    return {\n",
        "        \"candidate_ids\": ids,\n",
        "        \"candidates_context\": \"\\n\".join(lines[:100]) if lines else \"No matching candidates found.\"\n",
        "    }\n"
      ]
    },
    {
      "cell_type": "code",
      "execution_count": 37,
      "metadata": {},
      "outputs": [],
      "source": [
        "def has_context(state):\n",
        "    return state.get(\"context\") and state[\"context\"] != \"No relevant document found.\""
      ]
    },
    {
      "cell_type": "markdown",
      "metadata": {},
      "source": [
        "### Graph definition"
      ]
    },
    {
      "cell_type": "code",
      "execution_count": null,
      "metadata": {},
      "outputs": [],
      "source": [
        "# NEW: build a simple 2-node graph\n",
        "graph = StateGraph(RAGState)\n",
        "graph.add_node(\"retrieve\", node_retrieve)\n",
        "graph.add_node(\"plan_from_jd\", node_plan_from_jd)\n",
        "graph.add_node(\"pool_candidates\", node_pool_candidates)\n",
        "graph.add_node(\"generate\", node_generate)\n",
        "\n",
        "graph.set_entry_point(\"retrieve\")\n",
        "graph.add_edge(\"retrieve\", \"plan_from_jd\")\n",
        "graph.add_edge(\"plan_from_jd\", \"pool_candidates\")\n",
        "graph.add_edge(\"pool_candidates\", \"generate\")\n",
        "graph.add_edge(\"generate\", END)\n",
        "\n",
        "app = graph.compile()\n"
      ]
    },
    {
      "cell_type": "code",
      "execution_count": 39,
      "metadata": {},
      "outputs": [
        {
          "data": {
            "image/png": "[encoded data removed]",
            "text/plain": [
              "<langgraph.graph.state.CompiledStateGraph object at 0x793708431f10>"
            ]
          },
          "execution_count": 39,
          "metadata": {},
          "output_type": "execute_result"
        }
      ],
      "source": [
        "app"
      ]
    },
    {
      "cell_type": "code",
      "execution_count": 40,
      "metadata": {},
      "outputs": [
        {
          "ename": "AttributeError",
          "evalue": "'LanceEmptyQueryBuilder' object has no attribute 'nearest'",
          "output_type": "error",
          "traceback": [
            "\u001b[31m---------------------------------------------------------------------------\u001b[39m",
            "\u001b[31mAttributeError\u001b[39m                            Traceback (most recent call last)",
            "\u001b[36mCell\u001b[39m\u001b[36m \u001b[39m\u001b[32mIn[40]\u001b[39m\u001b[32m, line 2\u001b[39m\n\u001b[32m      1\u001b[39m \u001b[38;5;66;03m# NEW: LangGraph run\u001b[39;00m\n\u001b[32m----> \u001b[39m\u001b[32m2\u001b[39m result_state = \u001b[43mapp\u001b[49m\u001b[43m.\u001b[49m\u001b[43minvoke\u001b[49m\u001b[43m(\u001b[49m\u001b[43m{\u001b[49m\u001b[33;43m\"\u001b[39;49m\u001b[33;43mquery\u001b[39;49m\u001b[33;43m\"\u001b[39;49m\u001b[43m:\u001b[49m\u001b[43m \u001b[49m\u001b[33;43m\"\u001b[39;49m\u001b[33;43mGive me the best candidate for the position of a business executive.\u001b[39;49m\u001b[33;43m\"\u001b[39;49m\u001b[43m}\u001b[49m\u001b[43m)\u001b[49m\n\u001b[32m      3\u001b[39m \u001b[38;5;28mprint\u001b[39m(\u001b[33m\"\u001b[39m\u001b[38;5;130;01m\\n\u001b[39;00m\u001b[33m🧩 Final Answer:\u001b[39m\u001b[38;5;130;01m\\n\u001b[39;00m\u001b[33m\"\u001b[39m, result_state[\u001b[33m\"\u001b[39m\u001b[33manswer\u001b[39m\u001b[33m\"\u001b[39m])\n",
            "\u001b[36mFile \u001b[39m\u001b[32m~/miniconda3/envs/lang/lib/python3.12/site-packages/langgraph/pregel/main.py:3085\u001b[39m, in \u001b[36mPregel.invoke\u001b[39m\u001b[34m(self, input, config, context, stream_mode, print_mode, output_keys, interrupt_before, interrupt_after, durability, **kwargs)\u001b[39m\n\u001b[32m   3082\u001b[39m chunks: \u001b[38;5;28mlist\u001b[39m[\u001b[38;5;28mdict\u001b[39m[\u001b[38;5;28mstr\u001b[39m, Any] | Any] = []\n\u001b[32m   3083\u001b[39m interrupts: \u001b[38;5;28mlist\u001b[39m[Interrupt] = []\n\u001b[32m-> \u001b[39m\u001b[32m3085\u001b[39m \u001b[43m\u001b[49m\u001b[38;5;28;43;01mfor\u001b[39;49;00m\u001b[43m \u001b[49m\u001b[43mchunk\u001b[49m\u001b[43m \u001b[49m\u001b[38;5;129;43;01min\u001b[39;49;00m\u001b[43m \u001b[49m\u001b[38;5;28;43mself\u001b[39;49m\u001b[43m.\u001b[49m\u001b[43mstream\u001b[49m\u001b[43m(\u001b[49m\n\u001b[32m   3086\u001b[39m \u001b[43m    \u001b[49m\u001b[38;5;28;43minput\u001b[39;49m\u001b[43m,\u001b[49m\n\u001b[32m   3087\u001b[39m \u001b[43m    \u001b[49m\u001b[43mconfig\u001b[49m\u001b[43m,\u001b[49m\n\u001b[32m   3088\u001b[39m \u001b[43m    \u001b[49m\u001b[43mcontext\u001b[49m\u001b[43m=\u001b[49m\u001b[43mcontext\u001b[49m\u001b[43m,\u001b[49m\n\u001b[32m   3089\u001b[39m \u001b[43m    \u001b[49m\u001b[43mstream_mode\u001b[49m\u001b[43m=\u001b[49m\u001b[43m[\u001b[49m\u001b[33;43m\"\u001b[39;49m\u001b[33;43mupdates\u001b[39;49m\u001b[33;43m\"\u001b[39;49m\u001b[43m,\u001b[49m\u001b[43m \u001b[49m\u001b[33;43m\"\u001b[39;49m\u001b[33;43mvalues\u001b[39;49m\u001b[33;43m\"\u001b[39;49m\u001b[43m]\u001b[49m\n\u001b[32m   3090\u001b[39m \u001b[43m    \u001b[49m\u001b[38;5;28;43;01mif\u001b[39;49;00m\u001b[43m \u001b[49m\u001b[43mstream_mode\u001b[49m\u001b[43m \u001b[49m\u001b[43m==\u001b[49m\u001b[43m \u001b[49m\u001b[33;43m\"\u001b[39;49m\u001b[33;43mvalues\u001b[39;49m\u001b[33;43m\"\u001b[39;49m\n\u001b[32m   3091\u001b[39m \u001b[43m    \u001b[49m\u001b[38;5;28;43;01melse\u001b[39;49;00m\u001b[43m \u001b[49m\u001b[43mstream_mode\u001b[49m\u001b[43m,\u001b[49m\n\u001b[32m   3092\u001b[39m \u001b[43m    \u001b[49m\u001b[43mprint_mode\u001b[49m\u001b[43m=\u001b[49m\u001b[43mprint_mode\u001b[49m\u001b[43m,\u001b[49m\n\u001b[32m   3093\u001b[39m \u001b[43m    \u001b[49m\u001b[43moutput_keys\u001b[49m\u001b[43m=\u001b[49m\u001b[43moutput_keys\u001b[49m\u001b[43m,\u001b[49m\n\u001b[32m   3094\u001b[39m \u001b[43m    \u001b[49m\u001b[43minterrupt_before\u001b[49m\u001b[43m=\u001b[49m\u001b[43minterrupt_before\u001b[49m\u001b[43m,\u001b[49m\n\u001b[32m   3095\u001b[39m \u001b[43m    \u001b[49m\u001b[43minterrupt_after\u001b[49m\u001b[43m=\u001b[49m\u001b[43minterrupt_after\u001b[49m\u001b[43m,\u001b[49m\n\u001b[32m   3096\u001b[39m \u001b[43m    \u001b[49m\u001b[43mdurability\u001b[49m\u001b[43m=\u001b[49m\u001b[43mdurability\u001b[49m\u001b[43m,\u001b[49m\n\u001b[32m   3097\u001b[39m \u001b[43m    \u001b[49m\u001b[43m*\u001b[49m\u001b[43m*\u001b[49m\u001b[43mkwargs\u001b[49m\u001b[43m,\u001b[49m\n\u001b[32m   3098\u001b[39m \u001b[43m\u001b[49m\u001b[43m)\u001b[49m\u001b[43m:\u001b[49m\n\u001b[32m   3099\u001b[39m \u001b[43m    \u001b[49m\u001b[38;5;28;43;01mif\u001b[39;49;00m\u001b[43m \u001b[49m\u001b[43mstream_mode\u001b[49m\u001b[43m \u001b[49m\u001b[43m==\u001b[49m\u001b[43m \u001b[49m\u001b[33;43m\"\u001b[39;49m\u001b[33;43mvalues\u001b[39;49m\u001b[33;43m\"\u001b[39;49m\u001b[43m:\u001b[49m\n\u001b[32m   3100\u001b[39m \u001b[43m        \u001b[49m\u001b[38;5;28;43;01mif\u001b[39;49;00m\u001b[43m \u001b[49m\u001b[38;5;28;43mlen\u001b[39;49m\u001b[43m(\u001b[49m\u001b[43mchunk\u001b[49m\u001b[43m)\u001b[49m\u001b[43m \u001b[49m\u001b[43m==\u001b[49m\u001b[43m \u001b[49m\u001b[32;43m2\u001b[39;49m\u001b[43m:\u001b[49m\n",
            "\u001b[36mFile \u001b[39m\u001b[32m~/miniconda3/envs/lang/lib/python3.12/site-packages/langgraph/pregel/main.py:2674\u001b[39m, in \u001b[36mPregel.stream\u001b[39m\u001b[34m(self, input, config, context, stream_mode, print_mode, output_keys, interrupt_before, interrupt_after, durability, subgraphs, debug, **kwargs)\u001b[39m\n\u001b[32m   2672\u001b[39m \u001b[38;5;28;01mfor\u001b[39;00m task \u001b[38;5;129;01min\u001b[39;00m loop.match_cached_writes():\n\u001b[32m   2673\u001b[39m     loop.output_writes(task.id, task.writes, cached=\u001b[38;5;28;01mTrue\u001b[39;00m)\n\u001b[32m-> \u001b[39m\u001b[32m2674\u001b[39m \u001b[43m\u001b[49m\u001b[38;5;28;43;01mfor\u001b[39;49;00m\u001b[43m \u001b[49m\u001b[43m_\u001b[49m\u001b[43m \u001b[49m\u001b[38;5;129;43;01min\u001b[39;49;00m\u001b[43m \u001b[49m\u001b[43mrunner\u001b[49m\u001b[43m.\u001b[49m\u001b[43mtick\u001b[49m\u001b[43m(\u001b[49m\n\u001b[32m   2675\u001b[39m \u001b[43m    \u001b[49m\u001b[43m[\u001b[49m\u001b[43mt\u001b[49m\u001b[43m \u001b[49m\u001b[38;5;28;43;01mfor\u001b[39;49;00m\u001b[43m \u001b[49m\u001b[43mt\u001b[49m\u001b[43m \u001b[49m\u001b[38;5;129;43;01min\u001b[39;49;00m\u001b[43m \u001b[49m\u001b[43mloop\u001b[49m\u001b[43m.\u001b[49m\u001b[43mtasks\u001b[49m\u001b[43m.\u001b[49m\u001b[43mvalues\u001b[49m\u001b[43m(\u001b[49m\u001b[43m)\u001b[49m\u001b[43m \u001b[49m\u001b[38;5;28;43;01mif\u001b[39;49;00m\u001b[43m \u001b[49m\u001b[38;5;129;43;01mnot\u001b[39;49;00m\u001b[43m \u001b[49m\u001b[43mt\u001b[49m\u001b[43m.\u001b[49m\u001b[43mwrites\u001b[49m\u001b[43m]\u001b[49m\u001b[43m,\u001b[49m\n\u001b[32m   2676\u001b[39m \u001b[43m    \u001b[49m\u001b[43mtimeout\u001b[49m\u001b[43m=\u001b[49m\u001b[38;5;28;43mself\u001b[39;49m\u001b[43m.\u001b[49m\u001b[43mstep_timeout\u001b[49m\u001b[43m,\u001b[49m\n\u001b[32m   2677\u001b[39m \u001b[43m    \u001b[49m\u001b[43mget_waiter\u001b[49m\u001b[43m=\u001b[49m\u001b[43mget_waiter\u001b[49m\u001b[43m,\u001b[49m\n\u001b[32m   2678\u001b[39m \u001b[43m    \u001b[49m\u001b[43mschedule_task\u001b[49m\u001b[43m=\u001b[49m\u001b[43mloop\u001b[49m\u001b[43m.\u001b[49m\u001b[43maccept_push\u001b[49m\u001b[43m,\u001b[49m\n\u001b[32m   2679\u001b[39m \u001b[43m\u001b[49m\u001b[43m)\u001b[49m\u001b[43m:\u001b[49m\n\u001b[32m   2680\u001b[39m \u001b[43m    \u001b[49m\u001b[38;5;66;43;03m# emit output\u001b[39;49;00m\n\u001b[32m   2681\u001b[39m \u001b[43m    \u001b[49m\u001b[38;5;28;43;01myield from\u001b[39;49;00m\u001b[43m \u001b[49m\u001b[43m_output\u001b[49m\u001b[43m(\u001b[49m\n\u001b[32m   2682\u001b[39m \u001b[43m        \u001b[49m\u001b[43mstream_mode\u001b[49m\u001b[43m,\u001b[49m\u001b[43m \u001b[49m\u001b[43mprint_mode\u001b[49m\u001b[43m,\u001b[49m\u001b[43m \u001b[49m\u001b[43msubgraphs\u001b[49m\u001b[43m,\u001b[49m\u001b[43m \u001b[49m\u001b[43mstream\u001b[49m\u001b[43m.\u001b[49m\u001b[43mget\u001b[49m\u001b[43m,\u001b[49m\u001b[43m \u001b[49m\u001b[43mqueue\u001b[49m\u001b[43m.\u001b[49m\u001b[43mEmpty\u001b[49m\n\u001b[32m   2683\u001b[39m \u001b[43m    \u001b[49m\u001b[43m)\u001b[49m\n\u001b[32m   2684\u001b[39m loop.after_tick()\n",
            "\u001b[36mFile \u001b[39m\u001b[32m~/miniconda3/envs/lang/lib/python3.12/site-packages/langgraph/pregel/_runner.py:162\u001b[39m, in \u001b[36mPregelRunner.tick\u001b[39m\u001b[34m(self, tasks, reraise, timeout, retry_policy, get_waiter, schedule_task)\u001b[39m\n\u001b[32m    160\u001b[39m t = tasks[\u001b[32m0\u001b[39m]\n\u001b[32m    161\u001b[39m \u001b[38;5;28;01mtry\u001b[39;00m:\n\u001b[32m--> \u001b[39m\u001b[32m162\u001b[39m     \u001b[43mrun_with_retry\u001b[49m\u001b[43m(\u001b[49m\n\u001b[32m    163\u001b[39m \u001b[43m        \u001b[49m\u001b[43mt\u001b[49m\u001b[43m,\u001b[49m\n\u001b[32m    164\u001b[39m \u001b[43m        \u001b[49m\u001b[43mretry_policy\u001b[49m\u001b[43m,\u001b[49m\n\u001b[32m    165\u001b[39m \u001b[43m        \u001b[49m\u001b[43mconfigurable\u001b[49m\u001b[43m=\u001b[49m\u001b[43m{\u001b[49m\n\u001b[32m    166\u001b[39m \u001b[43m            \u001b[49m\u001b[43mCONFIG_KEY_CALL\u001b[49m\u001b[43m:\u001b[49m\u001b[43m \u001b[49m\u001b[43mpartial\u001b[49m\u001b[43m(\u001b[49m\n\u001b[32m    167\u001b[39m \u001b[43m                \u001b[49m\u001b[43m_call\u001b[49m\u001b[43m,\u001b[49m\n\u001b[32m    168\u001b[39m \u001b[43m                \u001b[49m\u001b[43mweakref\u001b[49m\u001b[43m.\u001b[49m\u001b[43mref\u001b[49m\u001b[43m(\u001b[49m\u001b[43mt\u001b[49m\u001b[43m)\u001b[49m\u001b[43m,\u001b[49m\n\u001b[32m    169\u001b[39m \u001b[43m                \u001b[49m\u001b[43mretry_policy\u001b[49m\u001b[43m=\u001b[49m\u001b[43mretry_policy\u001b[49m\u001b[43m,\u001b[49m\n\u001b[32m    170\u001b[39m \u001b[43m                \u001b[49m\u001b[43mfutures\u001b[49m\u001b[43m=\u001b[49m\u001b[43mweakref\u001b[49m\u001b[43m.\u001b[49m\u001b[43mref\u001b[49m\u001b[43m(\u001b[49m\u001b[43mfutures\u001b[49m\u001b[43m)\u001b[49m\u001b[43m,\u001b[49m\n\u001b[32m    171\u001b[39m \u001b[43m                \u001b[49m\u001b[43mschedule_task\u001b[49m\u001b[43m=\u001b[49m\u001b[43mschedule_task\u001b[49m\u001b[43m,\u001b[49m\n\u001b[32m    172\u001b[39m \u001b[43m                \u001b[49m\u001b[43msubmit\u001b[49m\u001b[43m=\u001b[49m\u001b[38;5;28;43mself\u001b[39;49m\u001b[43m.\u001b[49m\u001b[43msubmit\u001b[49m\u001b[43m,\u001b[49m\n\u001b[32m    173\u001b[39m \u001b[43m            \u001b[49m\u001b[43m)\u001b[49m\u001b[43m,\u001b[49m\n\u001b[32m    174\u001b[39m \u001b[43m        \u001b[49m\u001b[43m}\u001b[49m\u001b[43m,\u001b[49m\n\u001b[32m    175\u001b[39m \u001b[43m    \u001b[49m\u001b[43m)\u001b[49m\n\u001b[32m    176\u001b[39m     \u001b[38;5;28mself\u001b[39m.commit(t, \u001b[38;5;28;01mNone\u001b[39;00m)\n\u001b[32m    177\u001b[39m \u001b[38;5;28;01mexcept\u001b[39;00m \u001b[38;5;167;01mException\u001b[39;00m \u001b[38;5;28;01mas\u001b[39;00m exc:\n",
            "\u001b[36mFile \u001b[39m\u001b[32m~/miniconda3/envs/lang/lib/python3.12/site-packages/langgraph/pregel/_retry.py:42\u001b[39m, in \u001b[36mrun_with_retry\u001b[39m\u001b[34m(task, retry_policy, configurable)\u001b[39m\n\u001b[32m     40\u001b[39m     task.writes.clear()\n\u001b[32m     41\u001b[39m     \u001b[38;5;66;03m# run the task\u001b[39;00m\n\u001b[32m---> \u001b[39m\u001b[32m42\u001b[39m     \u001b[38;5;28;01mreturn\u001b[39;00m \u001b[43mtask\u001b[49m\u001b[43m.\u001b[49m\u001b[43mproc\u001b[49m\u001b[43m.\u001b[49m\u001b[43minvoke\u001b[49m\u001b[43m(\u001b[49m\u001b[43mtask\u001b[49m\u001b[43m.\u001b[49m\u001b[43minput\u001b[49m\u001b[43m,\u001b[49m\u001b[43m \u001b[49m\u001b[43mconfig\u001b[49m\u001b[43m)\u001b[49m\n\u001b[32m     43\u001b[39m \u001b[38;5;28;01mexcept\u001b[39;00m ParentCommand \u001b[38;5;28;01mas\u001b[39;00m exc:\n\u001b[32m     44\u001b[39m     ns: \u001b[38;5;28mstr\u001b[39m = config[CONF][CONFIG_KEY_CHECKPOINT_NS]\n",
            "\u001b[36mFile \u001b[39m\u001b[32m~/miniconda3/envs/lang/lib/python3.12/site-packages/langgraph/_internal/_runnable.py:657\u001b[39m, in \u001b[36mRunnableSeq.invoke\u001b[39m\u001b[34m(self, input, config, **kwargs)\u001b[39m\n\u001b[32m    655\u001b[39m     \u001b[38;5;66;03m# run in context\u001b[39;00m\n\u001b[32m    656\u001b[39m     \u001b[38;5;28;01mwith\u001b[39;00m set_config_context(config, run) \u001b[38;5;28;01mas\u001b[39;00m context:\n\u001b[32m--> \u001b[39m\u001b[32m657\u001b[39m         \u001b[38;5;28minput\u001b[39m = \u001b[43mcontext\u001b[49m\u001b[43m.\u001b[49m\u001b[43mrun\u001b[49m\u001b[43m(\u001b[49m\u001b[43mstep\u001b[49m\u001b[43m.\u001b[49m\u001b[43minvoke\u001b[49m\u001b[43m,\u001b[49m\u001b[43m \u001b[49m\u001b[38;5;28;43minput\u001b[39;49m\u001b[43m,\u001b[49m\u001b[43m \u001b[49m\u001b[43mconfig\u001b[49m\u001b[43m,\u001b[49m\u001b[43m \u001b[49m\u001b[43m*\u001b[49m\u001b[43m*\u001b[49m\u001b[43mkwargs\u001b[49m\u001b[43m)\u001b[49m\n\u001b[32m    658\u001b[39m \u001b[38;5;28;01melse\u001b[39;00m:\n\u001b[32m    659\u001b[39m     \u001b[38;5;28minput\u001b[39m = step.invoke(\u001b[38;5;28minput\u001b[39m, config)\n",
            "\u001b[36mFile \u001b[39m\u001b[32m~/miniconda3/envs/lang/lib/python3.12/site-packages/langgraph/_internal/_runnable.py:401\u001b[39m, in \u001b[36mRunnableCallable.invoke\u001b[39m\u001b[34m(self, input, config, **kwargs)\u001b[39m\n\u001b[32m    399\u001b[39m         run_manager.on_chain_end(ret)\n\u001b[32m    400\u001b[39m \u001b[38;5;28;01melse\u001b[39;00m:\n\u001b[32m--> \u001b[39m\u001b[32m401\u001b[39m     ret = \u001b[38;5;28;43mself\u001b[39;49m\u001b[43m.\u001b[49m\u001b[43mfunc\u001b[49m\u001b[43m(\u001b[49m\u001b[43m*\u001b[49m\u001b[43margs\u001b[49m\u001b[43m,\u001b[49m\u001b[43m \u001b[49m\u001b[43m*\u001b[49m\u001b[43m*\u001b[49m\u001b[43mkwargs\u001b[49m\u001b[43m)\u001b[49m\n\u001b[32m    402\u001b[39m \u001b[38;5;28;01mif\u001b[39;00m \u001b[38;5;28mself\u001b[39m.recurse \u001b[38;5;129;01mand\u001b[39;00m \u001b[38;5;28misinstance\u001b[39m(ret, Runnable):\n\u001b[32m    403\u001b[39m     \u001b[38;5;28;01mreturn\u001b[39;00m ret.invoke(\u001b[38;5;28minput\u001b[39m, config)\n",
            "\u001b[36mCell\u001b[39m\u001b[36m \u001b[39m\u001b[32mIn[35]\u001b[39m\u001b[32m, line 14\u001b[39m, in \u001b[36mnode_pool_candidates\u001b[39m\u001b[34m(state)\u001b[39m\n\u001b[32m      9\u001b[39m     \u001b[38;5;28;01mraise\u001b[39;00m \u001b[38;5;167;01mRuntimeError\u001b[39;00m(\u001b[33mf\u001b[39m\u001b[33m\"\u001b[39m\u001b[33mTable \u001b[39m\u001b[33m'\u001b[39m\u001b[38;5;132;01m{\u001b[39;00mCAND_TABLE\u001b[38;5;132;01m}\u001b[39;00m\u001b[33m'\u001b[39m\u001b[33m not found. Existing: \u001b[39m\u001b[38;5;132;01m{\u001b[39;00mdb.table_names()\u001b[38;5;132;01m}\u001b[39;00m\u001b[33m\"\u001b[39m)\n\u001b[32m     11\u001b[39m \u001b[38;5;66;03m# nearest() uses the default vector column (\"vector\"); set explicitly if different\u001b[39;00m\n\u001b[32m     12\u001b[39m rows = (\n\u001b[32m     13\u001b[39m     \u001b[43mtbl\u001b[49m\u001b[43m.\u001b[49m\u001b[43msearch\u001b[49m\u001b[43m(\u001b[49m\u001b[43m)\u001b[49m\n\u001b[32m---> \u001b[39m\u001b[32m14\u001b[39m \u001b[43m       \u001b[49m\u001b[43m.\u001b[49m\u001b[43mnearest\u001b[49m(jd_vec)  \u001b[38;5;66;03m# or .nearest(jd_vec, vector_column_name=\"vector\")\u001b[39;00m\n\u001b[32m     15\u001b[39m        .limit(k)\n\u001b[32m     16\u001b[39m        .select([\u001b[33m\"\u001b[39m\u001b[33mmetadata\u001b[39m\u001b[33m\"\u001b[39m])   \u001b[38;5;66;03m# only pull what you need\u001b[39;00m\n\u001b[32m     17\u001b[39m        .to_list()\n\u001b[32m     18\u001b[39m )\n\u001b[32m     20\u001b[39m \u001b[38;5;66;03m# Some versions return distance as '_distance', others as 'score'\u001b[39;00m\n\u001b[32m     21\u001b[39m \u001b[38;5;28;01mdef\u001b[39;00m\u001b[38;5;250m \u001b[39m\u001b[34mto_score\u001b[39m(r):\n\u001b[32m     22\u001b[39m     \u001b[38;5;66;03m# higher-is-better score; convert distance to similarity if needed\u001b[39;00m\n",
            "\u001b[31mAttributeError\u001b[39m: 'LanceEmptyQueryBuilder' object has no attribute 'nearest'",
            "During task with name 'pool_candidates' and id '28bac428-422e-7da7-f040-25875ca70269'"
          ]
        }
      ],
      "source": [
        "# NEW: LangGraph run\n",
        "result_state = app.invoke({\"query\": \"Give me the best candidate for the position of a business executive.\"})\n",
        "print(\"\\n🧩 Final Answer:\\n\", result_state[\"answer\"])\n"
      ]
    },
    {
      "cell_type": "code",
      "execution_count": null,
      "metadata": {},
      "outputs": [],
      "source": []
    }
  ],
  "metadata": {
    "kernelspec": {
      "display_name": "lang",
      "language": "python",
      "name": "python3"
    },
    "language_info": {
      "codemirror_mode": {
        "name": "ipython",
        "version": 3
      },
      "file_extension": ".py",
      "mimetype": "text/x-python",
      "name": "python",
      "nbconvert_exporter": "python",
      "pygments_lexer": "ipython3",
      "version": "3.12.11"
    }
  },
  "nbformat": 4,
  "nbformat_minor": 2
}
