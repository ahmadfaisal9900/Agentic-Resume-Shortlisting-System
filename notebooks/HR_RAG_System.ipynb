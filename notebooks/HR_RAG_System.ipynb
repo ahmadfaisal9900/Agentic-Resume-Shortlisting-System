{
  "cells": [
    {
      "cell_type": "code",
      "execution_count": 96,
      "metadata": {},
      "outputs": [],
      "source": [
        "\n",
        "from __future__ import annotations\n",
        "\n",
        "import os\n",
        "import logging\n",
        "from pathlib import Path\n",
        "from typing import List, Dict, Any\n",
        "\n",
        "import numpy as np\n",
        "import pypdf\n",
        "import lancedb\n",
        "from lancedb.pydantic import LanceModel, Vector\n",
        "from dotenv import load_dotenv\n",
        "from google import genai\n",
        "import logging\n",
        "from typing import TypedDict, List\n",
        "from langgraph.graph import StateGraph, END, START\n",
        "from langchain.schema import Document\n",
        "import dspy"
      ]
    },
    {
      "cell_type": "markdown",
      "metadata": {},
      "source": [
        "### Reading from the JD PDFs"
      ]
    },
    {
      "cell_type": "code",
      "execution_count": 97,
      "metadata": {},
      "outputs": [
        {
          "name": "stderr",
          "output_type": "stream",
          "text": [
            "WARNING:google_genai._api_client:Both GOOGLE_API_KEY and GEMINI_API_KEY are set. Using GOOGLE_API_KEY.\n"
          ]
        },
        {
          "name": "stderr",
          "output_type": "stream",
          "text": [
            "INFO:__main__:Processing Associate Software Engineer JD.pdf...\n",
            "INFO:__main__:Processing Business Development Executive JD.pdf...\n",
            "INFO:__main__:Processing Entry Level Marketing Associate JD.pdf...\n",
            "INFO:__main__:📄 Loaded 3 job descriptions.\n"
          ]
        }
      ],
      "source": [
        "import os\n",
        "import logging\n",
        "from pathlib import Path\n",
        "from typing import List, Dict, Any\n",
        "import pypdf\n",
        "\n",
        "load_dotenv()\n",
        "LANCE_URI = os.getenv(\"LANCE_URI\")\n",
        "LANCE_API_KEY = os.getenv(\"LANCE_API_KEY\")\n",
        "LANCE_REGION = os.getenv(\"LANCE_REGION\")\n",
        "GEMINI_API_KEY = os.getenv(\"GEMINI_API_KEY\")\n",
        "DOCS_FOLDER = os.getenv(\"DOCS_FOLDER\", \"docs/JD\")  # fallback if not set\n",
        "LANGSMITH_API_KEY = os.getenv(\"LANGSMITH_API_KEY\")\n",
        "os.environ[\"LANGSMITH_API_KEY\"] = LANGSMITH_API_KEY \n",
        "os.environ[\"LANGSMITH_TRACING\"] = \"true\" \n",
        "\n",
        "\n",
        "from google import genai\n",
        "client = genai.Client(api_key=GEMINI_API_KEY)\n",
        "EMBEDDINGS_MODEL_ID = \"gemini-embedding-001\"\n",
        "\n",
        "\n",
        "logging.basicConfig(level=logging.INFO)\n",
        "logger = logging.getLogger(__name__)\n",
        "\n",
        "llm = dspy.LM(\"gemini/gemini-2.5-flash\", api_key=GEMINI_API_KEY)\n",
        "dspy.configure(lm=llm)\n",
        "\n",
        "class RAGState(TypedDict):\n",
        "    query: str\n",
        "    docs: List[Document]\n",
        "    context: str\n",
        "    answer: str\n",
        "    plan: dict\n",
        "    candidate_ids: List[str]\n",
        "    candidates_context: str     # NEW\n",
        "    candidate_snippets: List[str]       # aligned 1:1 with candidate_ids  (NEW)\n",
        "    ranked_ids: List[str]               # reranked\n",
        "    ranked_scores: List[float]          # reranked similarity scores\n",
        "\n",
        "\n",
        "def extract_text_from_pdf(pdf_path: Path) -> str:\n",
        "    \"\"\"Extract text from a PDF file.\"\"\"\n",
        "    try:\n",
        "        with pdf_path.open(\"rb\") as f:\n",
        "            reader = pypdf.PdfReader(f)\n",
        "            text = \"\\n\".join([page.extract_text() or \"\" for page in reader.pages])\n",
        "        return text.strip()\n",
        "    except Exception as e:\n",
        "        logger.error(f\"Error reading {pdf_path}: {e}\")\n",
        "        return \"\"\n",
        "\n",
        "def load_job_descriptions(folder: Path) -> List[Dict[str, Any]]:\n",
        "    \"\"\"Load all PDFs and return list of job info dictionaries.\"\"\"\n",
        "    records = []\n",
        "    if not folder.exists():\n",
        "        logger.error(f\"❌ Folder {folder} not found\")\n",
        "        return []\n",
        "\n",
        "    for pdf in sorted(folder.glob(\"*.pdf\")):\n",
        "        logger.info(f\"Processing {pdf.name}...\")\n",
        "        text = extract_text_from_pdf(pdf)\n",
        "        if not text:\n",
        "            continue\n",
        "        records.append({\n",
        "            \"id\": f\"job_{pdf.stem}\",\n",
        "            \"title\": pdf.stem.replace(\"_\", \" \").replace(\" JD\", \"\").strip(),\n",
        "            \"description\": text,\n",
        "            \"pdf_path\": str(pdf),\n",
        "            \"company\": \"Unknown\",\n",
        "            \"location\": \"Unknown\"\n",
        "        })\n",
        "    logger.info(f\"📄 Loaded {len(records)} job descriptions.\")\n",
        "    return records\n",
        "\n",
        "docs_folder = Path(DOCS_FOLDER)\n",
        "jobs = load_job_descriptions(docs_folder)\n"
      ]
    },
    {
      "cell_type": "markdown",
      "metadata": {},
      "source": [
        "## Function to reconstruct full documents from the chunks\n",
        "This works by checking the chunk ID and getting all of the ids"
      ]
    },
    {
      "cell_type": "code",
      "execution_count": 98,
      "metadata": {},
      "outputs": [],
      "source": [
        "def reconstruct_full_docs(chunks):\n",
        "    docs_map = {}\n",
        "    for chunk in chunks:\n",
        "        doc_id = chunk.metadata['id']\n",
        "        if doc_id not in docs_map:\n",
        "            docs_map[doc_id] = []\n",
        "        docs_map[doc_id].append(chunk.page_content)\n",
        "    \n",
        "    return [\" \".join(chunks) for chunks in docs_map.values()]"
      ]
    },
    {
      "cell_type": "markdown",
      "metadata": {},
      "source": [
        "### Chunking"
      ]
    },
    {
      "cell_type": "code",
      "execution_count": 99,
      "metadata": {},
      "outputs": [
        {
          "name": "stdout",
          "output_type": "stream",
          "text": [
            "✅ Split into 12 chunks\n"
          ]
        }
      ],
      "source": [
        "from langchain.text_splitter import RecursiveCharacterTextSplitter\n",
        "\n",
        "text_splitter = RecursiveCharacterTextSplitter(\n",
        "    chunk_size=1000,   # max characters per chunk\n",
        "    chunk_overlap=50   # overlap for context continuity\n",
        ")\n",
        "\n",
        "# Convert job descriptions to LangChain Document objects\n",
        "from langchain.schema import Document\n",
        "docs = [Document(page_content=j[\"description\"], metadata={\"id\": j[\"id\"], \"title\": j[\"title\"]}) for j in jobs]\n",
        "\n",
        "# Split into chunks\n",
        "chunks = text_splitter.split_documents(docs)\n",
        "print(f\"✅ Split into {len(chunks)} chunks\")\n"
      ]
    },
    {
      "cell_type": "markdown",
      "metadata": {},
      "source": [
        "### Storing to Vector DB"
      ]
    },
    {
      "cell_type": "code",
      "execution_count": 100,
      "metadata": {},
      "outputs": [
        {
          "name": "stdout",
          "output_type": "stream",
          "text": [
            "✅ Connected to LanceDB\n",
            "🧹 Old table 'job_descriptions' removed.\n"
          ]
        },
        {
          "name": "stderr",
          "output_type": "stream",
          "text": [
            "E0000 00:00:1761734451.440266   15411 alts_credentials.cc:93] ALTS creds ignored. Not running on GCP and untrusted ALTS is not enabled.\n",
            "E0000 00:00:1761734451.441789   15411 alts_credentials.cc:93] ALTS creds ignored. Not running on GCP and untrusted ALTS is not enabled.\n"
          ]
        },
        {
          "name": "stdout",
          "output_type": "stream",
          "text": [
            "✅ Stored 12 chunks in 'job_descriptions'\n",
            "vector: fixed_size_list<item: float>[3072]\n",
            "  child 0, item: float\n",
            "id: string\n",
            "text: string\n",
            "metadata: struct<id: string, title: string>\n",
            "  child 0, id: string\n",
            "  child 1, title: string\n",
            "Total rows: 12\n"
          ]
        }
      ],
      "source": [
        "import os\n",
        "import lancedb\n",
        "from langchain_google_genai import GoogleGenerativeAIEmbeddings\n",
        "from langchain_community.vectorstores import LanceDB\n",
        "\n",
        "db = lancedb.connect(\n",
        "  uri=\"db://agentic-hr-a7qydd\",\n",
        "  api_key=LANCE_API_KEY,\n",
        "  region=\"us-east-1\"\n",
        ")\n",
        "print(\"✅ Connected to LanceDB\")\n",
        "\n",
        "# --- 2. Remove any existing table before re-creating it ---\n",
        "if \"job_descriptions\" in db.table_names():\n",
        "    db.drop_table(\"job_descriptions\")\n",
        "    print(\"🧹 Old table 'job_descriptions' removed.\")\n",
        "\n",
        "# --- 3. Create Gemini embedding model ---\n",
        "embeddings = GoogleGenerativeAIEmbeddings(model=\"models/gemini-embedding-001\")\n",
        "\n",
        "# --- 4. Insert all chunks (LanceDB infers schema automatically) ---\n",
        "vector_store = LanceDB.from_documents(\n",
        "    documents=chunks,         # list of LangChain Document objects\n",
        "    embedding=embeddings,     # Gemini embedding model\n",
        "    connection=db,            # the DB connection (not a table)\n",
        "    table_name=\"job_descriptions\",\n",
        "    api_key=LANCE_API_KEY,\n",
        "    region=LANCE_REGION,\n",
        "    uri=LANCE_URI\n",
        ")\n",
        "\n",
        "print(f\"✅ Stored {len(chunks)} chunks in 'job_descriptions'\")\n",
        "\n",
        "# --- 5. Verify table structure ---\n",
        "\n",
        "table = db.open_table(\"job_descriptions\")\n",
        "print(table.schema)\n",
        "print(\"Total rows:\", table.count_rows())\n"
      ]
    },
    {
      "cell_type": "code",
      "execution_count": 101,
      "metadata": {},
      "outputs": [],
      "source": [
        "retriever = vector_store.as_retriever(\n",
        "    search_kwargs={\n",
        "        \"k\": 10,  # increase number of chunks retrieved\n",
        "        \"fetch_k\": 20  # fetch more candidates before selecting top k\n",
        "    }\n",
        ")\n",
        "GLOBAL_RETRIEVER = retriever   # NEW: expose retriever to graph nodes\n",
        "def retrieve_and_process(query: str) -> str:\n",
        "    docs = retriever.get_relevant_documents(query)\n",
        "    full_docs = reconstruct_full_docs(docs)\n",
        "    return full_docs[0] if full_docs else \"No relevant document found.\"\n",
        "\n"
      ]
    },
    {
      "cell_type": "markdown",
      "metadata": {},
      "source": [
        "### DSPy Context Engineering + Node Definitions for Retreival and Generation of JD"
      ]
    },
    {
      "cell_type": "code",
      "execution_count": 102,
      "metadata": {},
      "outputs": [],
      "source": [
        "class AnswerJD(dspy.Signature):\n",
        "    \"\"\"Answer queries about candidate recommendations with structured reasoning.\"\"\"\n",
        "    context: str = dspy.InputField(desc=\"Candidate information and their scores\")\n",
        "    query: str = dspy.InputField(desc=\"Query about candidate recommendations\")\n",
        "    answer: str = dspy.OutputField(desc=\"Structured answer explaining top candidates and reasoning\")\n",
        "\n",
        "def node_retrieve(state: RAGState) -> dict:\n",
        "    q = state[\"query\"]\n",
        "    docs = GLOBAL_RETRIEVER.get_relevant_documents(q)\n",
        "    full_docs = reconstruct_full_docs(docs)\n",
        "    context = full_docs[0] if full_docs else \"No relevant document found.\"\n",
        "    return {\"docs\": docs, \"context\": context}\n",
        "\n",
        "def node_generate(state: RAGState) -> dict:\n",
        "    # Get top candidates and their scores\n",
        "    top_ids = state.get(\"ranked_ids\", [])[:3]  # Consider top 3\n",
        "    top_scores = state.get(\"ranked_scores\", [])[:3]\n",
        "    snippets = state.get(\"candidate_snippets\", [])\n",
        "    \n",
        "    # Build context with scores\n",
        "    context_lines = []\n",
        "    for i, (candidate_id, score) in enumerate(zip(top_ids, top_scores)):\n",
        "        if i < len(snippets):\n",
        "            context_lines.append(f\"Candidate {i+1} (Score: {score:.3f}): {snippets[i]}\")\n",
        "    \n",
        "    context = \"\\n\".join([\n",
        "        \"Top Candidates for Your Review:\",\n",
        "        \"--------------------------------\",\n",
        "        *context_lines,\n",
        "        \"\\nQuery: \" + state[\"query\"]\n",
        "    ])\n",
        "\n",
        "    # Generate structured response\n",
        "    dspy_module = dspy.Predict(AnswerJD)\n",
        "    pred = dspy_module(\n",
        "        context=context,\n",
        "        query=\"Analyze these candidates and recommend the best match, explaining why. Consider their roles, experience, and match scores.\"\n",
        "    )\n",
        "    \n",
        "    return {\"answer\": getattr(pred, \"answer\", \"\").strip()}"
      ]
    },
    {
      "cell_type": "code",
      "execution_count": 103,
      "metadata": {},
      "outputs": [],
      "source": [
        "# --- metadata ingest (unchanged, with a tiny fix) ---\n",
        "import json\n",
        "from pathlib import Path\n",
        "from langchain.schema import Document\n",
        "\n",
        "CAND_TABLE = \"candidates_meta\"\n",
        "META_JSON_DIR = Path(\"/home/ahmad-faisal/lang/HR/docs/Resumes/metadata\")\n",
        "\n",
        "def load_meta_docs(meta_dir: Path) -> list[Document]:\n",
        "    docs = []\n",
        "    for p in sorted(meta_dir.glob(\"*.json\")):\n",
        "        j = json.loads(p.read_text(encoding=\"utf-8\"))\n",
        "        text = \" | \".join([\n",
        "            str(j.get(\"job_title\", \"\")).strip(),\n",
        "            str(j.get(\"university\", \"\")).strip(),\n",
        "            str(j.get(\"candidate_name\", \"\")).strip(),\n",
        "            str(j.get(\"doc_type\", \"\")).strip(),\n",
        "            str(j.get(\"source\", \"\")).strip(),\n",
        "        ])\n",
        "        docs.append(Document(\n",
        "            page_content=text,\n",
        "            metadata={\n",
        "                \"resume_id\": str(j.get(\"resume_id\", \"\")).strip(),  # ← FIX HERE\n",
        "                \"candidate_name\": str(j.get(\"candidate_name\", \"\")).strip(),\n",
        "                \"university\": str(j.get(\"university\", \"\")).strip(),\n",
        "                \"job_title\": str(j.get(\"job_title\", \"\")).strip(),\n",
        "                \"doc_type\": str(j.get(\"doc_type\", \"\")).strip(),\n",
        "                \"source\": str(j.get(\"source\", \"\")).strip(),\n",
        "            }\n",
        "        ))\n",
        "    return docs\n",
        "\n",
        "meta_docs = load_meta_docs(META_JSON_DIR)\n",
        "\n",
        "# (Re)create the vector table for metadata\n",
        "if CAND_TABLE in db.table_names():\n",
        "    db.drop_table(CAND_TABLE)\n",
        "\n",
        "cand_vs = LanceDB.from_documents(\n",
        "    documents=meta_docs,\n",
        "    embedding=embeddings,\n",
        "    connection=db,\n",
        "    table_name=CAND_TABLE,\n",
        "    mode=\"overwrite\",\n",
        "    api_key=LANCE_API_KEY,\n",
        "    region=LANCE_REGION,\n",
        "    uri=LANCE_URI\n",
        ")\n"
      ]
    },
    {
      "cell_type": "code",
      "execution_count": 105,
      "metadata": {},
      "outputs": [
        {
          "name": "stdout",
          "output_type": "stream",
          "text": [
            "resume_id: string\n",
            "text: large_string\n",
            "Total rows: 50\n"
          ]
        }
      ],
      "source": [
        "# --- Recreate TEXT_TABLE with both columns: resume_id + text ---\n",
        "import pandas as pd\n",
        "import pyarrow as pa\n",
        "from pathlib import Path\n",
        "\n",
        "TEXT_TABLE = \"candidate_texts\"\n",
        "RESUME_TEXTS_CSV = Path(\"/home/ahmad-faisal/lang/HR/docs/Resumes/archive/Resume/random_50_rows.csv\")\n",
        "\n",
        "def build_text_rows(csv_path: Path) -> list[dict]:\n",
        "    df = pd.read_csv(csv_path)\n",
        "    df.columns = [c.strip().lower() for c in df.columns]\n",
        "    id_col = \"id\" if \"id\" in df.columns else (\"resume_id\" if \"resume_id\" in df.columns else None)\n",
        "    text_col = \"resume_str\" if \"resume_str\" in df.columns else (\"resume_text\" if \"resume_text\" in df.columns else None)\n",
        "    if not id_col or not text_col:\n",
        "        raise ValueError(\"CSV must contain columns: ID/resume_id and resume_str/resume_text\")\n",
        "    rows = []\n",
        "    for _, r in df.iterrows():\n",
        "        rid = str(r[id_col]).strip()\n",
        "        txt = \"\" if pd.isna(r[text_col]) else str(r[text_col]).strip()\n",
        "        if rid:\n",
        "            rows.append({\"resume_id\": rid, \"text\": txt})\n",
        "    return rows\n",
        "\n",
        "rows = build_text_rows(RESUME_TEXTS_CSV)\n",
        "\n",
        "# Drop and create with explicit schema so both fields are present\n",
        "if TEXT_TABLE in db.table_names():\n",
        "    db.drop_table(TEXT_TABLE)\n",
        "\n",
        "schema = pa.schema([\n",
        "    pa.field(\"resume_id\", pa.string()),\n",
        "    pa.field(\"text\", pa.large_string()),\n",
        "])\n",
        "text_tbl = db.create_table(TEXT_TABLE, data=rows, schema=schema, mode=\"overwrite\")\n",
        "print(text_tbl.schema)         # sanity check should show resume_id, text\n",
        "print(\"Total rows:\", text_tbl.count_rows())\n"
      ]
    },
    {
      "cell_type": "code",
      "execution_count": 106,
      "metadata": {},
      "outputs": [],
      "source": [
        "def _quote(vals):\n",
        "    # simple SQL-ish quoting for where clause\n",
        "    return \", \".join(repr(str(v)) for v in vals if v is not None and str(v) != \"\")\n",
        "\n",
        "def build_candidates_context(resume_ids: list[str], *, db, table_name: str = CAND_TABLE) -> str:\n",
        "    if not resume_ids:\n",
        "        return \"No candidate IDs to display.\"\n",
        "\n",
        "    tbl = db.open_table(table_name)\n",
        "\n",
        "    # IMPORTANT: nested struct paths in LanceDB filters use dot notation\n",
        "    id_filter = f\"metadata.resume_id IN ({_quote(resume_ids)})\"\n",
        "\n",
        "    # Select only nested fields we need; dot paths are allowed\n",
        "    rows = (\n",
        "        tbl.search()\n",
        "           .where(id_filter)\n",
        "           .select([\n",
        "               \"metadata.candidate_name\",\n",
        "               \"metadata.job_title\",\n",
        "               \"metadata.university\",\n",
        "               \"metadata.resume_id\",\n",
        "           ])\n",
        "           .limit(len(resume_ids))\n",
        "           .to_list()\n",
        "    )\n",
        "\n",
        "    # Depending on driver version, rows may come back nested under 'metadata'\n",
        "    # or as flat keys with dots. Handle both safely:\n",
        "    lines = []\n",
        "    for r in rows:\n",
        "        md = r.get(\"metadata\") or {}\n",
        "        # fallback if keys are flattened like \"metadata.candidate_name\"\n",
        "        name = md.get(\"candidate_name\") or r.get(\"metadata.candidate_name\", \"\") or \"\"\n",
        "        title = md.get(\"job_title\") or r.get(\"metadata.job_title\", \"\") or \"\"\n",
        "        uni   = md.get(\"university\") or r.get(\"metadata.university\", \"\") or \"\"\n",
        "        rid   = md.get(\"resume_id\") or r.get(\"metadata.resume_id\", \"\") or \"\"\n",
        "        lines.append(f\"- {name.strip()} | {title.strip()} | {uni.strip()} | id={str(rid).strip()}\")\n",
        "\n",
        "    return \"\\n\".join(lines[:100]) if lines else \"No matching candidates found.\"\n"
      ]
    },
    {
      "cell_type": "code",
      "execution_count": 107,
      "metadata": {},
      "outputs": [],
      "source": [
        "def node_plan_from_jd(state: RAGState) -> dict:\n",
        "    jd_text = state.get(\"context\") or \"\"\n",
        "    plan = {\n",
        "        \"jd_embedding\": embeddings.embed_query(jd_text),\n",
        "        \"k_candidates\": 30,\n",
        "        \"indexes\": [\"candidates_meta\"],\n",
        "    }\n",
        "    # ✅ Only plan\n",
        "    return {\"plan\": plan}\n"
      ]
    },
    {
      "cell_type": "code",
      "execution_count": 108,
      "metadata": {},
      "outputs": [],
      "source": [
        "def _quote(vals):\n",
        "    return \", \".join(repr(str(v)) for v in vals if v is not None and str(v) != \"\")\n",
        "\n",
        "def _fetch_texts_by_ids(resume_ids: list[str]) -> list[str]:\n",
        "    if not resume_ids:\n",
        "        return []\n",
        "    tbl = db.open_table(TEXT_TABLE)\n",
        "\n",
        "    # Preferred: filter by IN and select the two flat columns\n",
        "    id_filter = f\"resume_id IN ({_quote(resume_ids)})\"\n",
        "    rows = (\n",
        "        tbl.search()\n",
        "           .where(id_filter)\n",
        "           .select([\"resume_id\", \"text\"])\n",
        "           .limit(len(resume_ids) * 2)\n",
        "           .to_list()\n",
        "    )\n",
        "\n",
        "    # Build a map rid -> text and return aligned to input order\n",
        "    id_to_text = {}\n",
        "    for r in rows:\n",
        "        rid = str(r.get(\"resume_id\", \"\")).strip()\n",
        "        txt = (r.get(\"text\") or \"\").strip()\n",
        "        if rid and rid not in id_to_text:\n",
        "            id_to_text[rid] = txt\n",
        "\n",
        "    return [id_to_text.get(str(rid), \"\") for rid in resume_ids]\n",
        "\n",
        "\n",
        "def node_pool_candidates(state: \"RAGState\") -> dict:\n",
        "    plan = state[\"plan\"]\n",
        "    k = int(plan.get(\"k_candidates\", 30))\n",
        "    jd_vec = plan[\"jd_embedding\"]\n",
        "\n",
        "    cand_store = LanceDB(connection=db, embedding=embeddings, table_name=CAND_TABLE,\n",
        "                         api_key=LANCE_API_KEY, region=LANCE_REGION, uri=LANCE_URI)\n",
        "    hits = cand_store.similarity_search_by_vector(jd_vec, k=k)\n",
        "\n",
        "    ids, meta_lines = [], []\n",
        "    for h in hits:\n",
        "        md = h.metadata or {}\n",
        "        rid = str(md.get(\"resume_id\", \"\")).strip()\n",
        "        name = (md.get(\"candidate_name\") or \"\").strip()\n",
        "        title = (md.get(\"job_title\") or \"\").strip()\n",
        "        uni = (md.get(\"university\") or \"\").strip()\n",
        "        ids.append(rid or f\"{name}|{title}\")\n",
        "        meta_lines.append(f\"- {name} | {title} | {uni} | id={rid or 'n/a'}\")\n",
        "\n",
        "    resume_texts = _fetch_texts_by_ids(ids)\n",
        "    snippets = [(t[:4000] if len(t) > 4000 else t) for t in resume_texts]\n",
        "\n",
        "    return {\n",
        "        \"candidate_ids\": ids,\n",
        "        \"candidate_snippets\": snippets,             # used by reranker\n",
        "        \"candidates_context\": \"\\n\".join(meta_lines[:100]) if meta_lines else \"No matching candidates found.\"\n",
        "    }\n",
        "\n"
      ]
    },
    {
      "cell_type": "code",
      "execution_count": 109,
      "metadata": {},
      "outputs": [],
      "source": [
        "import numpy as np\n",
        "\n",
        "def _embed_batch(texts: list[str]) -> np.ndarray:\n",
        "    # Gemini batch embed; returns array shape [N, D]\n",
        "    resp = client.models.embed_content(\n",
        "        model=EMBEDDINGS_MODEL_ID,\n",
        "        contents=texts,\n",
        "        # optional: task hints\n",
        "        # config=types.EmbedContentConfig(task_type='SEMANTIC_SIMILARITY')\n",
        "    )\n",
        "    # Handle both batched and single-item responses robustly\n",
        "    embs = resp.embeddings\n",
        "    # embs is a list of ContentEmbedding; each has .values\n",
        "    return np.vstack([np.asarray(e.values, dtype=np.float32) for e in embs])\n",
        "\n",
        "def _cosine_sim_matrix(A: np.ndarray, B: np.ndarray) -> np.ndarray:\n",
        "    # A: [n, d], B: [m, d] → sims: [n, m]\n",
        "    # Normalize (L2) for numerical stability\n",
        "    A = A / (np.linalg.norm(A, axis=1, keepdims=True) + 1e-12)\n",
        "    B = B / (np.linalg.norm(B, axis=1, keepdims=True) + 1e-12)\n",
        "    return A @ B.T  # cosine ≡ dot when normalized\n",
        "\n",
        "def rerank_with_gemini(query: str, docs: list[str], top_k: int | None = None):\n",
        "    \"\"\"\n",
        "    Returns (ranked_indices, ranked_scores).\n",
        "    Uses Gemini embeddings + cosine similarity.\n",
        "    \"\"\"\n",
        "    if not docs:\n",
        "        return [], []\n",
        "    # Embed query and docs\n",
        "    q_vec = _embed_batch([query])            # [1, d]\n",
        "    d_vecs = _embed_batch(docs)              # [N, d]\n",
        "    sims = _cosine_sim_matrix(d_vecs, q_vec) # [N, 1]\n",
        "    scores = sims[:, 0]\n",
        "    order = np.argsort(-scores)              # descending\n",
        "    if top_k is not None:\n",
        "        order = order[:top_k]\n",
        "    return order.tolist(), scores[order].tolist()\n"
      ]
    },
    {
      "cell_type": "code",
      "execution_count": 110,
      "metadata": {},
      "outputs": [],
      "source": [
        "TOPK_RERANK = 10   # you can tune this\n",
        "def node_rerank(state: RAGState) -> dict:\n",
        "    q = state[\"query\"]\n",
        "    snippets = state.get(\"candidate_snippets\", []) or []\n",
        "\n",
        "    idxs, scores = rerank_with_gemini(q, snippets, top_k=TOPK_RERANK)\n",
        "\n",
        "    ids = state.get(\"candidate_ids\", [])\n",
        "    ranked_ids = [ids[i] for i in idxs] if ids else []\n",
        "    ranked_snippets = [snippets[i][:1200] for i in idxs]  # optional: cap context per candidate\n",
        "\n",
        "    return {\n",
        "        \"ranked_ids\": ranked_ids,\n",
        "        \"ranked_scores\": scores,\n",
        "        \"candidates_context\": \"\\n\\n---\\n\\n\".join(ranked_snippets)  # feed concise text to generator\n",
        "    }\n"
      ]
    },
    {
      "cell_type": "code",
      "execution_count": 111,
      "metadata": {},
      "outputs": [],
      "source": [
        "def has_context(state):\n",
        "    return state.get(\"context\") and state[\"context\"] != \"No relevant document found.\""
      ]
    },
    {
      "cell_type": "markdown",
      "metadata": {},
      "source": [
        "### Graph definition"
      ]
    },
    {
      "cell_type": "code",
      "execution_count": 112,
      "metadata": {},
      "outputs": [],
      "source": [
        "# NEW: build a simple 2-node graph\n",
        "graph = StateGraph(RAGState)\n",
        "graph.add_node(\"retrieve\", node_retrieve)\n",
        "graph.add_node(\"plan_from_jd\", node_plan_from_jd)\n",
        "graph.add_node(\"pool_candidates\", node_pool_candidates)\n",
        "graph.add_node(\"generate\", node_generate)\n",
        "graph.add_node(\"rerank\", node_rerank)\n",
        "\n",
        "graph.set_entry_point(\"retrieve\")\n",
        "graph.add_edge(\"retrieve\", \"plan_from_jd\")\n",
        "graph.add_edge(\"plan_from_jd\", \"pool_candidates\")\n",
        "graph.add_edge(\"pool_candidates\", \"rerank\")   # ← NEW\n",
        "graph.add_edge(\"rerank\", \"generate\")          # ← NEW\n",
        "graph.add_edge(\"generate\", END)\n",
        "\n",
        "\n",
        "app = graph.compile()\n"
      ]
    },
    {
      "cell_type": "code",
      "execution_count": 113,
      "metadata": {},
      "outputs": [
        {
          "data": {
            "image/png": "[encoded data removed]",
            "text/plain": [
              "<langgraph.graph.state.CompiledStateGraph object at 0x725a3f7328d0>"
            ]
          },
          "execution_count": 113,
          "metadata": {},
          "output_type": "execute_result"
        }
      ],
      "source": [
        "app"
      ]
    },
    {
      "cell_type": "code",
      "execution_count": 115,
      "metadata": {},
      "outputs": [
        {
          "name": "stdout",
          "output_type": "stream",
          "text": [
            "Recommendation:\n",
            " Based on the provided information, **Candidate 2 (BUSINESS DEVELOPMENT SPECIALIST)** is the best match for a \"junior business executive\" position.\n",
            "\n",
            "Here's the reasoning:\n",
            "\n",
            "1.  **Role Alignment:** Candidate 2's primary roles, \"Business Development Specialist\" and \"Sales Optimization Specialist,\" align well with the responsibilities typically expected of a junior business executive. These roles focus on hands-on execution, lead generation, supporting sales teams, and developing new business opportunities without necessarily carrying the strategic oversight of a director or senior manager.\n",
            "2.  **Experience Level:** While Candidate 2 has strong accomplishments (e.g., generating significant pipeline and closed business, Microsoft M.V.P. awards), their titles and the nature of their tasks suggest a professional who is highly capable and results-driven but not yet at a senior leadership or director level. This fits the \"junior\" designation better than the other candidates.\n",
            "3.  **Comparison with Other Candidates:**\n",
            "    *   **Candidate 1 (Director of Business Development):** This candidate has extensive experience (over 6 years as a Director of Sales) and holds senior leadership titles like \"Director of Business Development\" and \"Senior Provider Relations Manager.\" Their profile is clearly too senior for a \"junior\" executive role.\n",
            "    *   **Candidate 3 (Business Development Manager):** While \"Business Development Manager\" can sometimes be a mid-level role, this candidate boasts \"more than 15 years of experience\" and their responsibilities include comprehensive business development activities, suggesting a more seasoned professional than a \"junior\" executive.\n",
            "\n",
            "Candidate 2 offers a strong blend of relevant experience, demonstrated results, and an appropriate level of seniority for a junior business executive role.\n",
            "Top IDs: ['18264694', '23464505', '39237915', '10228751', '18106533']\n",
            "Top scores: [0.6042, 0.5969, 0.5872, 0.5843, 0.5832]\n"
          ]
        }
      ],
      "source": [
        "result_state = app.invoke({\n",
        "    \"query\": \"Give me the best candidate for the position of a junior business executive.\"\n",
        "})\n",
        "print(\"Recommendation:\\n\", result_state[\"answer\"])\n",
        "print(\"Top IDs:\", result_state.get(\"ranked_ids\", [])[:5])\n",
        "print(\"Top scores:\", [round(s, 4) for s in result_state.get(\"ranked_scores\", [])[:5]])"
      ]
    },
    {
      "cell_type": "code",
      "execution_count": null,
      "metadata": {},
      "outputs": [],
      "source": []
    }
  ],
  "metadata": {
    "kernelspec": {
      "display_name": "lang",
      "language": "python",
      "name": "python3"
    },
    "language_info": {
      "codemirror_mode": {
        "name": "ipython",
        "version": 3
      },
      "file_extension": ".py",
      "mimetype": "text/x-python",
      "name": "python",
      "nbconvert_exporter": "python",
      "pygments_lexer": "ipython3",
      "version": "3.12.11"
    }
  },
  "nbformat": 4,
  "nbformat_minor": 2
}
